{
 "cells": [
  {
   "cell_type": "code",
   "execution_count": 152,
   "metadata": {},
   "outputs": [],
   "source": [
    "from pyspark.sql import SparkSession\n",
    "from pyspark.ml.feature import StringIndexer, VectorAssembler, OneHotEncoder\n",
    "from pyspark.ml.classification import LogisticRegression"
   ]
  },
  {
   "cell_type": "code",
   "execution_count": 153,
   "metadata": {},
   "outputs": [],
   "source": [
    "spark = SparkSession.builder.appName('logisticRegression').getOrCreate()"
   ]
  },
  {
   "cell_type": "code",
   "execution_count": 154,
   "metadata": {
    "scrolled": true
   },
   "outputs": [],
   "source": [
    "titanic_df = spark.read.csv(\"D:/train.csv\", inferSchema = True, header = True)"
   ]
  },
  {
   "cell_type": "code",
   "execution_count": 155,
   "metadata": {},
   "outputs": [
    {
     "data": {
      "text/plain": [
       "177"
      ]
     },
     "execution_count": 155,
     "metadata": {},
     "output_type": "execute_result"
    }
   ],
   "source": [
    "titanic_df.where(titanic_df['age'].isNull()).count()"
   ]
  },
  {
   "cell_type": "code",
   "execution_count": 156,
   "metadata": {},
   "outputs": [
    {
     "name": "stdout",
     "output_type": "stream",
     "text": [
      "+-------+-----------------+-------------------+------------------+--------------------+------+------------------+------------------+-------------------+------------------+-----------------+-----+--------+\n",
      "|summary|      PassengerId|           Survived|            Pclass|                Name|   Sex|               Age|             SibSp|              Parch|            Ticket|             Fare|Cabin|Embarked|\n",
      "+-------+-----------------+-------------------+------------------+--------------------+------+------------------+------------------+-------------------+------------------+-----------------+-----+--------+\n",
      "|  count|              891|                891|               891|                 891|   891|               714|               891|                891|               891|              891|  204|     891|\n",
      "|   mean|            446.0| 0.3838383838383838| 2.308641975308642|                null|  null| 29.69911764705882|0.5230078563411896|0.38159371492704824|260318.54916792738| 32.2042079685746| null|    null|\n",
      "| stddev|257.3538420152301|0.48659245426485753|0.8360712409770491|                null|  null|14.526497332334035|1.1027434322934315| 0.8060572211299488|471609.26868834975|49.69342859718089| null|    null|\n",
      "|    min|                1|                  0|                 1|\"Andersson, Mr. A...|female|              0.42|                 0|                  0|            110152|              0.0|  A10|       C|\n",
      "|    max|              891|                  1|                 3|van Melkebeke, Mr...|  male|              80.0|                 8|                  6|         WE/P 5735|         512.3292|    T|       S|\n",
      "+-------+-----------------+-------------------+------------------+--------------------+------+------------------+------------------+-------------------+------------------+-----------------+-----+--------+\n",
      "\n"
     ]
    }
   ],
   "source": [
    "titanic_df.describe().show()"
   ]
  },
  {
   "cell_type": "markdown",
   "metadata": {},
   "source": [
    "Average age of the passengers is 29.699 and almost 38% of them survived"
   ]
  },
  {
   "cell_type": "code",
   "execution_count": 157,
   "metadata": {},
   "outputs": [
    {
     "name": "stdout",
     "output_type": "stream",
     "text": [
      "+-------+------------------+\n",
      "|summary|               Age|\n",
      "+-------+------------------+\n",
      "|  count|               714|\n",
      "|   mean| 29.69911764705882|\n",
      "| stddev|14.526497332334035|\n",
      "|    min|              0.42|\n",
      "|    max|              80.0|\n",
      "+-------+------------------+\n",
      "\n"
     ]
    }
   ],
   "source": [
    "titanic_df.describe(['Age']).show()"
   ]
  },
  {
   "cell_type": "code",
   "execution_count": 158,
   "metadata": {},
   "outputs": [],
   "source": [
    "titanic_df = titanic_df.fillna({'Age' : 29.69912})"
   ]
  },
  {
   "cell_type": "code",
   "execution_count": 159,
   "metadata": {},
   "outputs": [
    {
     "data": {
      "text/plain": [
       "0"
      ]
     },
     "execution_count": 159,
     "metadata": {},
     "output_type": "execute_result"
    }
   ],
   "source": [
    "titanic_df.where(titanic_df['age'].isNull()).count()"
   ]
  },
  {
   "cell_type": "code",
   "execution_count": 160,
   "metadata": {
    "scrolled": true
   },
   "outputs": [
    {
     "name": "stdout",
     "output_type": "stream",
     "text": [
      "+-----------+--------+------+--------------------+------+--------+-----+-----+----------------+-------+-----+--------+\n",
      "|PassengerId|Survived|Pclass|                Name|   Sex|     Age|SibSp|Parch|          Ticket|   Fare|Cabin|Embarked|\n",
      "+-----------+--------+------+--------------------+------+--------+-----+-----+----------------+-------+-----+--------+\n",
      "|          1|       0|     3|Braund, Mr. Owen ...|  male|    22.0|    1|    0|       A/5 21171|   7.25| null|       S|\n",
      "|          2|       1|     1|Cumings, Mrs. Joh...|female|    38.0|    1|    0|        PC 17599|71.2833|  C85|       C|\n",
      "|          3|       1|     3|Heikkinen, Miss. ...|female|    26.0|    0|    0|STON/O2. 3101282|  7.925| null|       S|\n",
      "|          4|       1|     1|Futrelle, Mrs. Ja...|female|    35.0|    1|    0|          113803|   53.1| C123|       S|\n",
      "|          5|       0|     3|Allen, Mr. Willia...|  male|    35.0|    0|    0|          373450|   8.05| null|       S|\n",
      "|          6|       0|     3|    Moran, Mr. James|  male|29.69912|    0|    0|          330877| 8.4583| null|       Q|\n",
      "|          7|       0|     1|McCarthy, Mr. Tim...|  male|    54.0|    0|    0|           17463|51.8625|  E46|       S|\n",
      "|          8|       0|     3|Palsson, Master. ...|  male|     2.0|    3|    1|          349909| 21.075| null|       S|\n",
      "|          9|       1|     3|Johnson, Mrs. Osc...|female|    27.0|    0|    2|          347742|11.1333| null|       S|\n",
      "|         10|       1|     2|Nasser, Mrs. Nich...|female|    14.0|    1|    0|          237736|30.0708| null|       C|\n",
      "|         11|       1|     3|Sandstrom, Miss. ...|female|     4.0|    1|    1|         PP 9549|   16.7|   G6|       S|\n",
      "|         12|       1|     1|Bonnell, Miss. El...|female|    58.0|    0|    0|          113783|  26.55| C103|       S|\n",
      "|         13|       0|     3|Saundercock, Mr. ...|  male|    20.0|    0|    0|       A/5. 2151|   8.05| null|       S|\n",
      "|         14|       0|     3|Andersson, Mr. An...|  male|    39.0|    1|    5|          347082| 31.275| null|       S|\n",
      "|         15|       0|     3|Vestrom, Miss. Hu...|female|    14.0|    0|    0|          350406| 7.8542| null|       S|\n",
      "|         16|       1|     2|Hewlett, Mrs. (Ma...|female|    55.0|    0|    0|          248706|   16.0| null|       S|\n",
      "|         17|       0|     3|Rice, Master. Eugene|  male|     2.0|    4|    1|          382652| 29.125| null|       Q|\n",
      "|         18|       1|     2|Williams, Mr. Cha...|  male|29.69912|    0|    0|          244373|   13.0| null|       S|\n",
      "|         19|       0|     3|Vander Planke, Mr...|female|    31.0|    1|    0|          345763|   18.0| null|       S|\n",
      "|         20|       1|     3|Masselmani, Mrs. ...|female|29.69912|    0|    0|            2649|  7.225| null|       C|\n",
      "+-----------+--------+------+--------------------+------+--------+-----+-----+----------------+-------+-----+--------+\n",
      "only showing top 20 rows\n",
      "\n"
     ]
    }
   ],
   "source": [
    "titanic_df.show()"
   ]
  },
  {
   "cell_type": "code",
   "execution_count": 161,
   "metadata": {},
   "outputs": [],
   "source": [
    "#titanic_df.select('Cabin').distinct.show()"
   ]
  },
  {
   "cell_type": "code",
   "execution_count": 162,
   "metadata": {},
   "outputs": [
    {
     "name": "stdout",
     "output_type": "stream",
     "text": [
      "PassengerId \t with null values:  0\n",
      "Survived \t with null values:  0\n",
      "Pclass \t with null values:  0\n",
      "Name \t with null values:  0\n",
      "Sex \t with null values:  0\n",
      "Age \t with null values:  0\n",
      "SibSp \t with null values:  0\n",
      "Parch \t with null values:  0\n",
      "Ticket \t with null values:  0\n",
      "Fare \t with null values:  0\n",
      "Cabin \t with null values:  687\n",
      "Embarked \t with null values:  0\n"
     ]
    }
   ],
   "source": [
    "#did this for my reference\n",
    "for col in titanic_df.columns:\n",
    "    print(col,'\\t', 'with null values: ', titanic_df.filter(titanic_df[col].isNull()).count())"
   ]
  },
  {
   "cell_type": "code",
   "execution_count": 163,
   "metadata": {},
   "outputs": [
    {
     "data": {
      "text/plain": [
       "0"
      ]
     },
     "execution_count": 163,
     "metadata": {},
     "output_type": "execute_result"
    }
   ],
   "source": [
    "titanic_df.where(titanic_df['Pclass'].isNull()).count()"
   ]
  },
  {
   "cell_type": "code",
   "execution_count": 164,
   "metadata": {},
   "outputs": [
    {
     "data": {
      "text/plain": [
       "0"
      ]
     },
     "execution_count": 164,
     "metadata": {},
     "output_type": "execute_result"
    }
   ],
   "source": [
    "titanic_df.where(titanic_df['Survived'].isNull()).count()"
   ]
  },
  {
   "cell_type": "code",
   "execution_count": 165,
   "metadata": {},
   "outputs": [
    {
     "data": {
      "text/plain": [
       "0"
      ]
     },
     "execution_count": 165,
     "metadata": {},
     "output_type": "execute_result"
    }
   ],
   "source": [
    "titanic_df.where(titanic_df['Sex'].isNull()).count()"
   ]
  },
  {
   "cell_type": "code",
   "execution_count": 166,
   "metadata": {},
   "outputs": [
    {
     "data": {
      "text/plain": [
       "0"
      ]
     },
     "execution_count": 166,
     "metadata": {},
     "output_type": "execute_result"
    }
   ],
   "source": [
    "titanic_df.where(titanic_df['SibSp'].isNull()).count()"
   ]
  },
  {
   "cell_type": "code",
   "execution_count": 167,
   "metadata": {},
   "outputs": [
    {
     "data": {
      "text/plain": [
       "0"
      ]
     },
     "execution_count": 167,
     "metadata": {},
     "output_type": "execute_result"
    }
   ],
   "source": [
    "titanic_df.where(titanic_df['Parch'].isNull()).count()"
   ]
  },
  {
   "cell_type": "code",
   "execution_count": 168,
   "metadata": {},
   "outputs": [
    {
     "data": {
      "text/plain": [
       "687"
      ]
     },
     "execution_count": 168,
     "metadata": {},
     "output_type": "execute_result"
    }
   ],
   "source": [
    "titanic_df.where(titanic_df['Cabin'].isNull()).count()"
   ]
  },
  {
   "cell_type": "code",
   "execution_count": 169,
   "metadata": {},
   "outputs": [
    {
     "name": "stdout",
     "output_type": "stream",
     "text": [
      "+-----------+-----+\n",
      "|      Cabin|count|\n",
      "+-----------+-----+\n",
      "|        A23|    1|\n",
      "|        B79|    1|\n",
      "|        E44|    2|\n",
      "|      F E69|    1|\n",
      "|        D28|    1|\n",
      "|        C78|    2|\n",
      "|        C95|    1|\n",
      "|      F G73|    2|\n",
      "|    B58 B60|    2|\n",
      "|         D7|    1|\n",
      "|       C128|    1|\n",
      "|        B39|    1|\n",
      "|        B22|    2|\n",
      "|       C110|    1|\n",
      "|        D21|    1|\n",
      "|         F2|    3|\n",
      "|        B30|    1|\n",
      "|       C104|    1|\n",
      "|        B50|    1|\n",
      "|         A6|    1|\n",
      "|        E31|    1|\n",
      "|        C90|    1|\n",
      "|        D45|    1|\n",
      "|        C45|    1|\n",
      "|        C65|    2|\n",
      "|    C22 C26|    3|\n",
      "|        A19|    1|\n",
      "|B51 B53 B55|    2|\n",
      "|        E33|    2|\n",
      "|        A16|    1|\n",
      "|         B4|    1|\n",
      "|    B96 B98|    4|\n",
      "|        E10|    1|\n",
      "|        C82|    1|\n",
      "|        D20|    2|\n",
      "|        E77|    1|\n",
      "|        B38|    1|\n",
      "|         E8|    2|\n",
      "|        A32|    1|\n",
      "|        C87|    1|\n",
      "|        B20|    2|\n",
      "|        E50|    1|\n",
      "|        B80|    1|\n",
      "|        D48|    1|\n",
      "|        E49|    1|\n",
      "|       null|  687|\n",
      "|          T|    1|\n",
      "|        A36|    1|\n",
      "|       C123|    2|\n",
      "|        D37|    1|\n",
      "|        C83|    2|\n",
      "|    C62 C64|    1|\n",
      "|       C103|    1|\n",
      "|        D35|    2|\n",
      "|       C111|    1|\n",
      "|      F G63|    1|\n",
      "|       C126|    2|\n",
      "|        D15|    1|\n",
      "|        B18|    2|\n",
      "|        C54|    1|\n",
      "|       E121|    2|\n",
      "|        D46|    1|\n",
      "|        B19|    1|\n",
      "|        C68|    2|\n",
      "|        C50|    1|\n",
      "|        C93|    2|\n",
      "|        E36|    1|\n",
      "|          D|    3|\n",
      "|        E46|    1|\n",
      "|       C124|    2|\n",
      "|        C30|    1|\n",
      "|       E101|    3|\n",
      "|        A26|    1|\n",
      "|         G6|    4|\n",
      "|        C85|    1|\n",
      "|         B3|    1|\n",
      "|        D47|    1|\n",
      "|        B28|    2|\n",
      "|        B71|    1|\n",
      "|        A31|    1|\n",
      "|        E67|    2|\n",
      "|       C148|    1|\n",
      "|        A10|    1|\n",
      "|        D30|    1|\n",
      "|        D19|    1|\n",
      "|        B37|    1|\n",
      "|        E25|    2|\n",
      "|        C86|    1|\n",
      "|        A20|    1|\n",
      "|        E40|    1|\n",
      "|        D17|    2|\n",
      "|        C52|    2|\n",
      "|        C91|    1|\n",
      "|        B77|    2|\n",
      "|        B86|    1|\n",
      "|        D33|    2|\n",
      "|        B94|    1|\n",
      "|    D10 D12|    1|\n",
      "|        D49|    1|\n",
      "|C23 C25 C27|    4|\n",
      "+-----------+-----+\n",
      "only showing top 100 rows\n",
      "\n"
     ]
    }
   ],
   "source": [
    "titanic_df.groupby('Cabin').count().show(100)"
   ]
  },
  {
   "cell_type": "code",
   "execution_count": 170,
   "metadata": {},
   "outputs": [
    {
     "name": "stdout",
     "output_type": "stream",
     "text": [
      "+-----------+-----+\n",
      "|      Cabin|count|\n",
      "+-----------+-----+\n",
      "|       null|  687|\n",
      "|    B96 B98|    4|\n",
      "|C23 C25 C27|    4|\n",
      "|         G6|    4|\n",
      "|          D|    3|\n",
      "|       E101|    3|\n",
      "|         F2|    3|\n",
      "|    C22 C26|    3|\n",
      "|        F33|    3|\n",
      "|        E33|    2|\n",
      "|      F G73|    2|\n",
      "|        B18|    2|\n",
      "|    B58 B60|    2|\n",
      "|        D20|    2|\n",
      "|        B20|    2|\n",
      "|       C126|    2|\n",
      "|        B22|    2|\n",
      "|        E44|    2|\n",
      "|       C123|    2|\n",
      "|        C83|    2|\n",
      "+-----------+-----+\n",
      "only showing top 20 rows\n",
      "\n"
     ]
    }
   ],
   "source": [
    "titanic_df.groupby('Cabin').count().orderBy('count', ascending = False).show(20)"
   ]
  },
  {
   "cell_type": "code",
   "execution_count": 171,
   "metadata": {},
   "outputs": [],
   "source": [
    "titanic_df = titanic_df.fillna({'Cabin' : 'G6'})"
   ]
  },
  {
   "cell_type": "code",
   "execution_count": 172,
   "metadata": {},
   "outputs": [
    {
     "data": {
      "text/plain": [
       "0"
      ]
     },
     "execution_count": 172,
     "metadata": {},
     "output_type": "execute_result"
    }
   ],
   "source": [
    "titanic_df.where(titanic_df['Cabin'].isNull()).count()"
   ]
  },
  {
   "cell_type": "code",
   "execution_count": 173,
   "metadata": {
    "scrolled": true
   },
   "outputs": [
    {
     "name": "stdout",
     "output_type": "stream",
     "text": [
      "+-----------+--------+------+-------------------------------------------------------+------+--------+-----+-----+----------------+-------+-----+--------+\n",
      "|PassengerId|Survived|Pclass|Name                                                   |Sex   |Age     |SibSp|Parch|Ticket          |Fare   |Cabin|Embarked|\n",
      "+-----------+--------+------+-------------------------------------------------------+------+--------+-----+-----+----------------+-------+-----+--------+\n",
      "|1          |0       |3     |Braund, Mr. Owen Harris                                |male  |22.0    |1    |0    |A/5 21171       |7.25   |G6   |S       |\n",
      "|2          |1       |1     |Cumings, Mrs. John Bradley (Florence Briggs Thayer)    |female|38.0    |1    |0    |PC 17599        |71.2833|C85  |C       |\n",
      "|3          |1       |3     |Heikkinen, Miss. Laina                                 |female|26.0    |0    |0    |STON/O2. 3101282|7.925  |G6   |S       |\n",
      "|4          |1       |1     |Futrelle, Mrs. Jacques Heath (Lily May Peel)           |female|35.0    |1    |0    |113803          |53.1   |C123 |S       |\n",
      "|5          |0       |3     |Allen, Mr. William Henry                               |male  |35.0    |0    |0    |373450          |8.05   |G6   |S       |\n",
      "|6          |0       |3     |Moran, Mr. James                                       |male  |29.69912|0    |0    |330877          |8.4583 |G6   |Q       |\n",
      "|7          |0       |1     |McCarthy, Mr. Timothy J                                |male  |54.0    |0    |0    |17463           |51.8625|E46  |S       |\n",
      "|8          |0       |3     |Palsson, Master. Gosta Leonard                         |male  |2.0     |3    |1    |349909          |21.075 |G6   |S       |\n",
      "|9          |1       |3     |Johnson, Mrs. Oscar W (Elisabeth Vilhelmina Berg)      |female|27.0    |0    |2    |347742          |11.1333|G6   |S       |\n",
      "|10         |1       |2     |Nasser, Mrs. Nicholas (Adele Achem)                    |female|14.0    |1    |0    |237736          |30.0708|G6   |C       |\n",
      "|11         |1       |3     |Sandstrom, Miss. Marguerite Rut                        |female|4.0     |1    |1    |PP 9549         |16.7   |G6   |S       |\n",
      "|12         |1       |1     |Bonnell, Miss. Elizabeth                               |female|58.0    |0    |0    |113783          |26.55  |C103 |S       |\n",
      "|13         |0       |3     |Saundercock, Mr. William Henry                         |male  |20.0    |0    |0    |A/5. 2151       |8.05   |G6   |S       |\n",
      "|14         |0       |3     |Andersson, Mr. Anders Johan                            |male  |39.0    |1    |5    |347082          |31.275 |G6   |S       |\n",
      "|15         |0       |3     |Vestrom, Miss. Hulda Amanda Adolfina                   |female|14.0    |0    |0    |350406          |7.8542 |G6   |S       |\n",
      "|16         |1       |2     |Hewlett, Mrs. (Mary D Kingcome)                        |female|55.0    |0    |0    |248706          |16.0   |G6   |S       |\n",
      "|17         |0       |3     |Rice, Master. Eugene                                   |male  |2.0     |4    |1    |382652          |29.125 |G6   |Q       |\n",
      "|18         |1       |2     |Williams, Mr. Charles Eugene                           |male  |29.69912|0    |0    |244373          |13.0   |G6   |S       |\n",
      "|19         |0       |3     |Vander Planke, Mrs. Julius (Emelia Maria Vandemoortele)|female|31.0    |1    |0    |345763          |18.0   |G6   |S       |\n",
      "|20         |1       |3     |Masselmani, Mrs. Fatima                                |female|29.69912|0    |0    |2649            |7.225  |G6   |C       |\n",
      "|21         |0       |2     |Fynney, Mr. Joseph J                                   |male  |35.0    |0    |0    |239865          |26.0   |G6   |S       |\n",
      "|22         |1       |2     |Beesley, Mr. Lawrence                                  |male  |34.0    |0    |0    |248698          |13.0   |D56  |S       |\n",
      "|23         |1       |3     |\"McGowan, Miss. Anna \"\"Annie\"\"\"                        |female|15.0    |0    |0    |330923          |8.0292 |G6   |Q       |\n",
      "|24         |1       |1     |Sloper, Mr. William Thompson                           |male  |28.0    |0    |0    |113788          |35.5   |A6   |S       |\n",
      "|25         |0       |3     |Palsson, Miss. Torborg Danira                          |female|8.0     |3    |1    |349909          |21.075 |G6   |S       |\n",
      "+-----------+--------+------+-------------------------------------------------------+------+--------+-----+-----+----------------+-------+-----+--------+\n",
      "only showing top 25 rows\n",
      "\n"
     ]
    }
   ],
   "source": [
    "titanic_df.show(25,False)"
   ]
  },
  {
   "cell_type": "markdown",
   "metadata": {},
   "source": [
    "#### Shape of the data contained in training.csv"
   ]
  },
  {
   "cell_type": "code",
   "execution_count": 174,
   "metadata": {},
   "outputs": [
    {
     "name": "stdout",
     "output_type": "stream",
     "text": [
      "891 12\n"
     ]
    }
   ],
   "source": [
    "print(titanic_df.count() , len(titanic_df.columns))"
   ]
  },
  {
   "cell_type": "markdown",
   "metadata": {},
   "source": [
    "This  means 891 rows and 12 columns"
   ]
  },
  {
   "cell_type": "markdown",
   "metadata": {},
   "source": [
    "#### Features (or attributes) are recorded for each passenger in training.csv"
   ]
  },
  {
   "cell_type": "code",
   "execution_count": 175,
   "metadata": {},
   "outputs": [
    {
     "data": {
      "text/plain": [
       "['PassengerId',\n",
       " 'Survived',\n",
       " 'Pclass',\n",
       " 'Name',\n",
       " 'Sex',\n",
       " 'Age',\n",
       " 'SibSp',\n",
       " 'Parch',\n",
       " 'Ticket',\n",
       " 'Fare',\n",
       " 'Cabin',\n",
       " 'Embarked']"
      ]
     },
     "execution_count": 175,
     "metadata": {},
     "output_type": "execute_result"
    }
   ],
   "source": [
    "titanic_df.columns"
   ]
  },
  {
   "cell_type": "markdown",
   "metadata": {},
   "source": [
    "'PassengerId', 'Survived', 'Pclass', 'Name', 'Sex', 'Age', 'SibSp', 'Parch', 'Ticket', 'Fare', 'Cabin', 'Embarked' are the columns recorded for each passenger"
   ]
  },
  {
   "cell_type": "markdown",
   "metadata": {},
   "source": [
    "#### Provide a schema of the columns to be included in your model for this assignment.  Comment on columns that may require transformation(s). An example of transformation is that of creating dummy variables. List these columns and explain why and what transformation is required. "
   ]
  },
  {
   "cell_type": "code",
   "execution_count": 176,
   "metadata": {},
   "outputs": [
    {
     "name": "stdout",
     "output_type": "stream",
     "text": [
      "root\n",
      " |-- PassengerId: integer (nullable = true)\n",
      " |-- Survived: integer (nullable = true)\n",
      " |-- Pclass: integer (nullable = true)\n",
      " |-- Name: string (nullable = true)\n",
      " |-- Sex: string (nullable = true)\n",
      " |-- Age: double (nullable = false)\n",
      " |-- SibSp: integer (nullable = true)\n",
      " |-- Parch: integer (nullable = true)\n",
      " |-- Ticket: string (nullable = true)\n",
      " |-- Fare: double (nullable = true)\n",
      " |-- Cabin: string (nullable = false)\n",
      " |-- Embarked: string (nullable = true)\n",
      "\n"
     ]
    }
   ],
   "source": [
    "titanic_df.printSchema()"
   ]
  },
  {
   "cell_type": "code",
   "execution_count": 177,
   "metadata": {},
   "outputs": [
    {
     "name": "stdout",
     "output_type": "stream",
     "text": [
      "root\n",
      " |-- Age: double (nullable = false)\n",
      " |-- Pclass: integer (nullable = true)\n",
      " |-- Sex: string (nullable = true)\n",
      " |-- Embarked: string (nullable = true)\n",
      " |-- Survived: integer (nullable = true)\n",
      "\n"
     ]
    }
   ],
   "source": [
    "titanic_predict_df = titanic_df.select('Age','Pclass','Sex', 'Embarked', 'Survived')\n",
    "titanic_predict_df.printSchema()"
   ]
  },
  {
   "cell_type": "markdown",
   "metadata": {},
   "source": [
    "From the available schema above, we can see that columns Name, Sex, Ticket, Cabin and Embarked are of string types. \n",
    "So these require transformations i.e., creating dummy variables.\n",
    "But fro now, we are going to concentrate only on Age, Sex, Embarked and pclass from which Sex and Embarked are of String types(categorical types), hence Sex and Embarked need transformations as the machine learning can understand only the numerical values.\n"
   ]
  },
  {
   "cell_type": "markdown",
   "metadata": {},
   "source": [
    "#### Comment on the balance of data in training.csv with regards to each input variable as well as your target variable. Support  comments with appropriate statistics. "
   ]
  },
  {
   "cell_type": "code",
   "execution_count": 178,
   "metadata": {
    "scrolled": true
   },
   "outputs": [
    {
     "name": "stdout",
     "output_type": "stream",
     "text": [
      "+-------+-----------------+-------------------+------------------+--------------------+------+------------------+------------------+-------------------+------------------+-----------------+-----+--------+\n",
      "|summary|      PassengerId|           Survived|            Pclass|                Name|   Sex|               Age|             SibSp|              Parch|            Ticket|             Fare|Cabin|Embarked|\n",
      "+-------+-----------------+-------------------+------------------+--------------------+------+------------------+------------------+-------------------+------------------+-----------------+-----+--------+\n",
      "|  count|              891|                891|               891|                 891|   891|               891|               891|                891|               891|              891|  891|     891|\n",
      "|   mean|            446.0| 0.3838383838383838| 2.308641975308642|                null|  null|29.699118114478157|0.5230078563411896|0.38159371492704824|260318.54916792738| 32.2042079685746| null|    null|\n",
      "| stddev|257.3538420152301|0.48659245426485753|0.8360712409770491|                null|  null|13.002015226002914|1.1027434322934315| 0.8060572211299488|471609.26868834975|49.69342859718089| null|    null|\n",
      "|    min|                1|                  0|                 1|\"Andersson, Mr. A...|female|              0.42|                 0|                  0|            110152|              0.0|  A10|       C|\n",
      "|    max|              891|                  1|                 3|van Melkebeke, Mr...|  male|              80.0|                 8|                  6|         WE/P 5735|         512.3292|    T|       S|\n",
      "+-------+-----------------+-------------------+------------------+--------------------+------+------------------+------------------+-------------------+------------------+-----------------+-----+--------+\n",
      "\n"
     ]
    }
   ],
   "source": [
    "titanic_df.describe().show()"
   ]
  },
  {
   "cell_type": "code",
   "execution_count": 179,
   "metadata": {},
   "outputs": [
    {
     "name": "stdout",
     "output_type": "stream",
     "text": [
      "+-------+------------------+------------------+------+--------+-------------------+\n",
      "|summary|               Age|            Pclass|   Sex|Embarked|           Survived|\n",
      "+-------+------------------+------------------+------+--------+-------------------+\n",
      "|  count|               891|               891|   891|     891|                891|\n",
      "|   mean|29.699118114478157| 2.308641975308642|  null|    null| 0.3838383838383838|\n",
      "| stddev|13.002015226002914|0.8360712409770491|  null|    null|0.48659245426485753|\n",
      "|    min|              0.42|                 1|female|       C|                  0|\n",
      "|    max|              80.0|                 3|  male|       S|                  1|\n",
      "+-------+------------------+------------------+------+--------+-------------------+\n",
      "\n"
     ]
    }
   ],
   "source": [
    "titanic_predict_df.describe().show()"
   ]
  },
  {
   "cell_type": "code",
   "execution_count": 180,
   "metadata": {},
   "outputs": [
    {
     "name": "stdout",
     "output_type": "stream",
     "text": [
      "+-------+-------------------+------------------+------------------+------+--------+\n",
      "|summary|           Survived|               Age|            Pclass|   Sex|Embarked|\n",
      "+-------+-------------------+------------------+------------------+------+--------+\n",
      "|  count|                891|               891|               891|   891|     891|\n",
      "|   mean| 0.3838383838383838|29.699118114478157| 2.308641975308642|  null|    null|\n",
      "| stddev|0.48659245426485753|13.002015226002914|0.8360712409770491|  null|    null|\n",
      "|    min|                  0|              0.42|                 1|female|       C|\n",
      "|    max|                  1|              80.0|                 3|  male|       S|\n",
      "+-------+-------------------+------------------+------------------+------+--------+\n",
      "\n"
     ]
    }
   ],
   "source": [
    "titanic_df.select('Survived','Age','Pclass','Sex','Embarked').describe().show()"
   ]
  },
  {
   "cell_type": "code",
   "execution_count": 227,
   "metadata": {},
   "outputs": [
    {
     "name": "stdout",
     "output_type": "stream",
     "text": [
      "+--------+-----+\n",
      "|     Age|count|\n",
      "+--------+-----+\n",
      "|29.69912|  177|\n",
      "|    24.0|   30|\n",
      "|    22.0|   27|\n",
      "|    18.0|   26|\n",
      "|    30.0|   25|\n",
      "|    28.0|   25|\n",
      "|    19.0|   25|\n",
      "|    21.0|   24|\n",
      "|    25.0|   23|\n",
      "|    36.0|   22|\n",
      "|    29.0|   20|\n",
      "|    32.0|   18|\n",
      "|    35.0|   18|\n",
      "|    27.0|   18|\n",
      "|    26.0|   18|\n",
      "|    31.0|   17|\n",
      "|    16.0|   17|\n",
      "|    23.0|   15|\n",
      "|    34.0|   15|\n",
      "|    33.0|   15|\n",
      "+--------+-----+\n",
      "only showing top 20 rows\n",
      "\n"
     ]
    }
   ],
   "source": [
    "titanic_predict_df.groupBy('Age').count().orderBy('count', ascending = False).show()"
   ]
  },
  {
   "cell_type": "markdown",
   "metadata": {},
   "source": [
    "People aged 29.66 or 30 are the largest in the dataset"
   ]
  },
  {
   "cell_type": "code",
   "execution_count": 182,
   "metadata": {},
   "outputs": [
    {
     "name": "stdout",
     "output_type": "stream",
     "text": [
      "+------+------------------+-----------------+-------------------+\n",
      "|   Sex|          avg(Age)|      avg(Pclass)|      avg(Survived)|\n",
      "+------+------------------+-----------------+-------------------+\n",
      "|female|28.216730445859895|2.159235668789809| 0.7420382165605095|\n",
      "|  male|30.505824748700135|2.389948006932409|0.18890814558058924|\n",
      "+------+------------------+-----------------+-------------------+\n",
      "\n"
     ]
    }
   ],
   "source": [
    "titanic_predict_df.groupBy('Sex').mean().show()"
   ]
  },
  {
   "cell_type": "markdown",
   "metadata": {},
   "source": [
    "Male has higher average age but lesser survival rate. Survival rate is higher for female category. Which means 'Sex' impacts Survived column"
   ]
  },
  {
   "cell_type": "code",
   "execution_count": 183,
   "metadata": {},
   "outputs": [
    {
     "name": "stdout",
     "output_type": "stream",
     "text": [
      "+------+------------------+-----------+-------------------+\n",
      "|Pclass|          avg(Age)|avg(Pclass)|      avg(Survived)|\n",
      "+------+------------------+-----------+-------------------+\n",
      "|     1| 37.04811851851854|        1.0| 0.6296296296296297|\n",
      "|     3|26.403259307535606|        3.0|0.24236252545824846|\n",
      "|     2|29.866958260869573|        2.0|0.47282608695652173|\n",
      "+------+------------------+-----------+-------------------+\n",
      "\n"
     ]
    }
   ],
   "source": [
    "titanic_predict_df.groupBy('Pclass').mean().show()"
   ]
  },
  {
   "cell_type": "markdown",
   "metadata": {},
   "source": [
    "Pclass-1 has an average age of 37 and a higher survival rate which means Pclass affects the survival rate"
   ]
  },
  {
   "cell_type": "code",
   "execution_count": 184,
   "metadata": {},
   "outputs": [
    {
     "name": "stdout",
     "output_type": "stream",
     "text": [
      "+--------+------------------+------------------+-------------------+\n",
      "|Embarked|          avg(Age)|       avg(Pclass)|      avg(Survived)|\n",
      "+--------+------------------+------------------+-------------------+\n",
      "|       Q| 29.53534461538462|2.8846153846153846| 0.3974358974358974|\n",
      "|       C|30.562420000000028|1.8869047619047619| 0.5535714285714286|\n",
      "|       S|29.494063255813938|2.3488372093023258|0.33798449612403103|\n",
      "+--------+------------------+------------------+-------------------+\n",
      "\n"
     ]
    }
   ],
   "source": [
    "titanic_predict_df.groupBy('Embarked').mean().show()"
   ]
  },
  {
   "cell_type": "code",
   "execution_count": 228,
   "metadata": {},
   "outputs": [
    {
     "name": "stdout",
     "output_type": "stream",
     "text": [
      "+--------+-----+\n",
      "|Survived|count|\n",
      "+--------+-----+\n",
      "|       1|  342|\n",
      "|       0|  549|\n",
      "+--------+-----+\n",
      "\n"
     ]
    }
   ],
   "source": [
    "titanic_predict_df.groupBy('Survived').count().show()"
   ]
  },
  {
   "cell_type": "markdown",
   "metadata": {},
   "source": [
    "Count of people not survived is higher than people survived"
   ]
  },
  {
   "cell_type": "markdown",
   "metadata": {},
   "source": [
    "Embarked with a 'C' value also has an impact on the survival status. Survived column depends on the Embarked status too."
   ]
  },
  {
   "cell_type": "markdown",
   "metadata": {},
   "source": [
    "#### Perform the transformations, if any, identified in step # 3. Perform feature engineering if and where needed, including Vectorization of relevant input variables. Provide a printout of the schema of your feature-engineered data."
   ]
  },
  {
   "cell_type": "code",
   "execution_count": 186,
   "metadata": {},
   "outputs": [
    {
     "name": "stdout",
     "output_type": "stream",
     "text": [
      "+----+------+------+--------+--------+----------+\n",
      "| Age|Pclass|   Sex|Embarked|Survived|Pclass_num|\n",
      "+----+------+------+--------+--------+----------+\n",
      "|22.0|     3|  male|       S|       0|       0.0|\n",
      "|38.0|     1|female|       C|       1|       1.0|\n",
      "|26.0|     3|female|       S|       1|       0.0|\n",
      "|35.0|     1|female|       S|       1|       1.0|\n",
      "|35.0|     3|  male|       S|       0|       0.0|\n",
      "+----+------+------+--------+--------+----------+\n",
      "only showing top 5 rows\n",
      "\n"
     ]
    }
   ],
   "source": [
    "Pclass_indexer = StringIndexer(inputCol = 'Pclass', outputCol = 'Pclass_num').fit(titanic_predict_df)\n",
    "titanic_predict_df = Pclass_indexer.transform(titanic_predict_df) \n",
    "titanic_predict_df.show(5)"
   ]
  },
  {
   "cell_type": "code",
   "execution_count": 187,
   "metadata": {},
   "outputs": [
    {
     "name": "stdout",
     "output_type": "stream",
     "text": [
      "+----+------+------+--------+--------+----------+-------+\n",
      "| Age|Pclass|   Sex|Embarked|Survived|Pclass_num|Sex_num|\n",
      "+----+------+------+--------+--------+----------+-------+\n",
      "|22.0|     3|  male|       S|       0|       0.0|    0.0|\n",
      "|38.0|     1|female|       C|       1|       1.0|    1.0|\n",
      "|26.0|     3|female|       S|       1|       0.0|    1.0|\n",
      "|35.0|     1|female|       S|       1|       1.0|    1.0|\n",
      "|35.0|     3|  male|       S|       0|       0.0|    0.0|\n",
      "+----+------+------+--------+--------+----------+-------+\n",
      "only showing top 5 rows\n",
      "\n"
     ]
    }
   ],
   "source": [
    "sex_indexer = StringIndexer(inputCol = 'Sex', outputCol = 'Sex_num').fit(titanic_predict_df)\n",
    "titanic_predict_df = sex_indexer.transform(titanic_predict_df) \n",
    "titanic_predict_df.show(5)"
   ]
  },
  {
   "cell_type": "code",
   "execution_count": 188,
   "metadata": {},
   "outputs": [
    {
     "name": "stdout",
     "output_type": "stream",
     "text": [
      "+----+------+------+--------+--------+----------+-------+------------+\n",
      "| Age|Pclass|   Sex|Embarked|Survived|Pclass_num|Sex_num|Embarked_num|\n",
      "+----+------+------+--------+--------+----------+-------+------------+\n",
      "|22.0|     3|  male|       S|       0|       0.0|    0.0|         0.0|\n",
      "|38.0|     1|female|       C|       1|       1.0|    1.0|         1.0|\n",
      "|26.0|     3|female|       S|       1|       0.0|    1.0|         0.0|\n",
      "|35.0|     1|female|       S|       1|       1.0|    1.0|         0.0|\n",
      "|35.0|     3|  male|       S|       0|       0.0|    0.0|         0.0|\n",
      "+----+------+------+--------+--------+----------+-------+------------+\n",
      "only showing top 5 rows\n",
      "\n"
     ]
    }
   ],
   "source": [
    "Embarked_indexer = StringIndexer(inputCol = 'Embarked', outputCol = 'Embarked_num').fit(titanic_predict_df)\n",
    "titanic_predict_df = Embarked_indexer.transform(titanic_predict_df) \n",
    "titanic_predict_df.show(5)"
   ]
  },
  {
   "cell_type": "code",
   "execution_count": 189,
   "metadata": {},
   "outputs": [
    {
     "name": "stdout",
     "output_type": "stream",
     "text": [
      "+-------+-----+\n",
      "|Sex_num|count|\n",
      "+-------+-----+\n",
      "|    0.0|  577|\n",
      "|    1.0|  314|\n",
      "+-------+-----+\n",
      "\n",
      "+----------+-----+\n",
      "|Pclass_num|count|\n",
      "+----------+-----+\n",
      "|       0.0|  491|\n",
      "|       1.0|  216|\n",
      "|       2.0|  184|\n",
      "+----------+-----+\n",
      "\n",
      "+------------+-----+\n",
      "|Embarked_num|count|\n",
      "+------------+-----+\n",
      "|         0.0|  645|\n",
      "|         1.0|  168|\n",
      "|         2.0|   78|\n",
      "+------------+-----+\n",
      "\n"
     ]
    }
   ],
   "source": [
    "titanic_predict_df.groupBy('Sex_num').count().show()\n",
    "titanic_predict_df.groupBy('Pclass_num').count().show()\n",
    "titanic_predict_df.groupBy('Embarked_num').count().show()"
   ]
  },
  {
   "cell_type": "code",
   "execution_count": 190,
   "metadata": {},
   "outputs": [
    {
     "name": "stdout",
     "output_type": "stream",
     "text": [
      "+----+------+------+--------+--------+----------+-------+------------+-------------------+\n",
      "| Age|Pclass|   Sex|Embarked|Survived|Pclass_num|Sex_num|Embarked_num|Pclass_Dummy_Vector|\n",
      "+----+------+------+--------+--------+----------+-------+------------+-------------------+\n",
      "|22.0|     3|  male|       S|       0|       0.0|    0.0|         0.0|      (2,[0],[1.0])|\n",
      "|38.0|     1|female|       C|       1|       1.0|    1.0|         1.0|      (2,[1],[1.0])|\n",
      "|26.0|     3|female|       S|       1|       0.0|    1.0|         0.0|      (2,[0],[1.0])|\n",
      "|35.0|     1|female|       S|       1|       1.0|    1.0|         0.0|      (2,[1],[1.0])|\n",
      "|35.0|     3|  male|       S|       0|       0.0|    0.0|         0.0|      (2,[0],[1.0])|\n",
      "+----+------+------+--------+--------+----------+-------+------------+-------------------+\n",
      "only showing top 5 rows\n",
      "\n"
     ]
    }
   ],
   "source": [
    "Pclass_encoder = OneHotEncoder(inputCol = 'Pclass_num', outputCol = 'Pclass_Dummy_Vector')\n",
    "titanic_predict_df = Pclass_encoder.transform(titanic_predict_df)\n",
    "titanic_predict_df.show(5)"
   ]
  },
  {
   "cell_type": "code",
   "execution_count": 191,
   "metadata": {},
   "outputs": [
    {
     "name": "stdout",
     "output_type": "stream",
     "text": [
      "+----+------+------+--------+--------+----------+-------+------------+-------------------+----------------+\n",
      "| Age|Pclass|   Sex|Embarked|Survived|Pclass_num|Sex_num|Embarked_num|Pclass_Dummy_Vector|Sex_Dummy_Vector|\n",
      "+----+------+------+--------+--------+----------+-------+------------+-------------------+----------------+\n",
      "|22.0|     3|  male|       S|       0|       0.0|    0.0|         0.0|      (2,[0],[1.0])|   (1,[0],[1.0])|\n",
      "|38.0|     1|female|       C|       1|       1.0|    1.0|         1.0|      (2,[1],[1.0])|       (1,[],[])|\n",
      "|26.0|     3|female|       S|       1|       0.0|    1.0|         0.0|      (2,[0],[1.0])|       (1,[],[])|\n",
      "|35.0|     1|female|       S|       1|       1.0|    1.0|         0.0|      (2,[1],[1.0])|       (1,[],[])|\n",
      "|35.0|     3|  male|       S|       0|       0.0|    0.0|         0.0|      (2,[0],[1.0])|   (1,[0],[1.0])|\n",
      "+----+------+------+--------+--------+----------+-------+------------+-------------------+----------------+\n",
      "only showing top 5 rows\n",
      "\n"
     ]
    }
   ],
   "source": [
    "sex_encoder = OneHotEncoder(inputCol = 'Sex_num', outputCol = 'Sex_Dummy_Vector')\n",
    "titanic_predict_df = sex_encoder.transform(titanic_predict_df)\n",
    "titanic_predict_df.show(5)"
   ]
  },
  {
   "cell_type": "code",
   "execution_count": 192,
   "metadata": {},
   "outputs": [
    {
     "name": "stdout",
     "output_type": "stream",
     "text": [
      "+----+------+------+--------+--------+----------+-------+------------+-------------------+----------------+---------------------+\n",
      "| Age|Pclass|   Sex|Embarked|Survived|Pclass_num|Sex_num|Embarked_num|Pclass_Dummy_Vector|Sex_Dummy_Vector|Embarked_Dummy_Vector|\n",
      "+----+------+------+--------+--------+----------+-------+------------+-------------------+----------------+---------------------+\n",
      "|22.0|     3|  male|       S|       0|       0.0|    0.0|         0.0|      (2,[0],[1.0])|   (1,[0],[1.0])|        (2,[0],[1.0])|\n",
      "|38.0|     1|female|       C|       1|       1.0|    1.0|         1.0|      (2,[1],[1.0])|       (1,[],[])|        (2,[1],[1.0])|\n",
      "|26.0|     3|female|       S|       1|       0.0|    1.0|         0.0|      (2,[0],[1.0])|       (1,[],[])|        (2,[0],[1.0])|\n",
      "|35.0|     1|female|       S|       1|       1.0|    1.0|         0.0|      (2,[1],[1.0])|       (1,[],[])|        (2,[0],[1.0])|\n",
      "|35.0|     3|  male|       S|       0|       0.0|    0.0|         0.0|      (2,[0],[1.0])|   (1,[0],[1.0])|        (2,[0],[1.0])|\n",
      "+----+------+------+--------+--------+----------+-------+------------+-------------------+----------------+---------------------+\n",
      "only showing top 5 rows\n",
      "\n"
     ]
    }
   ],
   "source": [
    "Embarked_encoder = OneHotEncoder(inputCol = 'Embarked_num', outputCol = 'Embarked_Dummy_Vector')\n",
    "titanic_predict_df = Embarked_encoder.transform(titanic_predict_df)\n",
    "titanic_predict_df.show(5)"
   ]
  },
  {
   "cell_type": "code",
   "execution_count": 193,
   "metadata": {},
   "outputs": [
    {
     "name": "stdout",
     "output_type": "stream",
     "text": [
      "+------+-----+\n",
      "|Pclass|count|\n",
      "+------+-----+\n",
      "|     1|  216|\n",
      "|     3|  491|\n",
      "|     2|  184|\n",
      "+------+-----+\n",
      "\n"
     ]
    }
   ],
   "source": [
    "titanic_predict_df.groupby('Pclass').count().show()"
   ]
  },
  {
   "cell_type": "code",
   "execution_count": 194,
   "metadata": {},
   "outputs": [
    {
     "name": "stdout",
     "output_type": "stream",
     "text": [
      "+-------------------+-----+\n",
      "|Pclass_Dummy_Vector|count|\n",
      "+-------------------+-----+\n",
      "|      (2,[0],[1.0])|  491|\n",
      "|      (2,[1],[1.0])|  216|\n",
      "|          (2,[],[])|  184|\n",
      "+-------------------+-----+\n",
      "\n"
     ]
    }
   ],
   "source": [
    "titanic_predict_df.groupby('Pclass_Dummy_Vector').count().show()"
   ]
  },
  {
   "cell_type": "code",
   "execution_count": 195,
   "metadata": {},
   "outputs": [
    {
     "name": "stdout",
     "output_type": "stream",
     "text": [
      "+--------+-----+\n",
      "|Embarked|count|\n",
      "+--------+-----+\n",
      "|       Q|   78|\n",
      "|       C|  168|\n",
      "|       S|  645|\n",
      "+--------+-----+\n",
      "\n"
     ]
    }
   ],
   "source": [
    "titanic_predict_df.groupby('Embarked').count().show()"
   ]
  },
  {
   "cell_type": "code",
   "execution_count": 196,
   "metadata": {},
   "outputs": [
    {
     "name": "stdout",
     "output_type": "stream",
     "text": [
      "+---------------------+-----+\n",
      "|Embarked_Dummy_Vector|count|\n",
      "+---------------------+-----+\n",
      "|        (2,[0],[1.0])|  645|\n",
      "|        (2,[1],[1.0])|  168|\n",
      "|            (2,[],[])|   78|\n",
      "+---------------------+-----+\n",
      "\n"
     ]
    }
   ],
   "source": [
    "titanic_predict_df.groupby('Embarked_Dummy_Vector').count().show()"
   ]
  },
  {
   "cell_type": "code",
   "execution_count": 197,
   "metadata": {},
   "outputs": [
    {
     "name": "stdout",
     "output_type": "stream",
     "text": [
      "+------+-----+\n",
      "|   Sex|count|\n",
      "+------+-----+\n",
      "|female|  314|\n",
      "|  male|  577|\n",
      "+------+-----+\n",
      "\n"
     ]
    }
   ],
   "source": [
    "titanic_predict_df.groupby('Sex').count().show()"
   ]
  },
  {
   "cell_type": "code",
   "execution_count": 198,
   "metadata": {},
   "outputs": [
    {
     "name": "stdout",
     "output_type": "stream",
     "text": [
      "+----------------+-----+\n",
      "|Sex_Dummy_Vector|count|\n",
      "+----------------+-----+\n",
      "|   (1,[0],[1.0])|  577|\n",
      "|       (1,[],[])|  314|\n",
      "+----------------+-----+\n",
      "\n"
     ]
    }
   ],
   "source": [
    "titanic_predict_df.groupby('Sex_Dummy_Vector').count().show()"
   ]
  },
  {
   "cell_type": "code",
   "execution_count": 199,
   "metadata": {},
   "outputs": [
    {
     "name": "stdout",
     "output_type": "stream",
     "text": [
      "root\n",
      " |-- Age: double (nullable = false)\n",
      " |-- Pclass: integer (nullable = true)\n",
      " |-- Sex: string (nullable = true)\n",
      " |-- Embarked: string (nullable = true)\n",
      " |-- Survived: integer (nullable = true)\n",
      " |-- Pclass_num: double (nullable = false)\n",
      " |-- Sex_num: double (nullable = false)\n",
      " |-- Embarked_num: double (nullable = false)\n",
      " |-- Pclass_Dummy_Vector: vector (nullable = true)\n",
      " |-- Sex_Dummy_Vector: vector (nullable = true)\n",
      " |-- Embarked_Dummy_Vector: vector (nullable = true)\n",
      "\n"
     ]
    }
   ],
   "source": [
    "titanic_predict_df.printSchema()"
   ]
  },
  {
   "cell_type": "code",
   "execution_count": 200,
   "metadata": {},
   "outputs": [],
   "source": [
    "titanic_predict_df_assembler = VectorAssembler(inputCols = ['Pclass_Dummy_Vector', 'Age', 'Sex_Dummy_Vector','Embarked_Dummy_Vector'], outputCol = 'features')\n",
    "titanic_predict_df = titanic_predict_df_assembler.transform(titanic_predict_df)"
   ]
  },
  {
   "cell_type": "code",
   "execution_count": 201,
   "metadata": {},
   "outputs": [
    {
     "name": "stdout",
     "output_type": "stream",
     "text": [
      "+--------+--------------------------+\n",
      "|Survived|features                  |\n",
      "+--------+--------------------------+\n",
      "|0       |[1.0,0.0,22.0,1.0,1.0,0.0]|\n",
      "|1       |[0.0,1.0,38.0,0.0,0.0,1.0]|\n",
      "|1       |[1.0,0.0,26.0,0.0,1.0,0.0]|\n",
      "+--------+--------------------------+\n",
      "only showing top 3 rows\n",
      "\n"
     ]
    }
   ],
   "source": [
    "titanic_model_df = titanic_predict_df.select(['Survived', 'features'])\n",
    "titanic_model_df.show(3, truncate = False)"
   ]
  },
  {
   "cell_type": "markdown",
   "metadata": {},
   "source": [
    "features has all the columns put into a single vector"
   ]
  },
  {
   "cell_type": "markdown",
   "metadata": {},
   "source": [
    "#### To train and then test your model, split the data from training.csv into training and test datasets using an 80/20 split. "
   ]
  },
  {
   "cell_type": "code",
   "execution_count": 202,
   "metadata": {},
   "outputs": [],
   "source": [
    "titanic_training_df, titanic_test_df = titanic_model_df.randomSplit([0.80,0.20])"
   ]
  },
  {
   "cell_type": "code",
   "execution_count": 203,
   "metadata": {},
   "outputs": [
    {
     "name": "stdout",
     "output_type": "stream",
     "text": [
      "709\n"
     ]
    }
   ],
   "source": [
    "print(titanic_training_df.count())"
   ]
  },
  {
   "cell_type": "code",
   "execution_count": 204,
   "metadata": {},
   "outputs": [
    {
     "name": "stdout",
     "output_type": "stream",
     "text": [
      "182\n"
     ]
    }
   ],
   "source": [
    "print(titanic_test_df.count())"
   ]
  },
  {
   "cell_type": "code",
   "execution_count": 205,
   "metadata": {},
   "outputs": [
    {
     "name": "stdout",
     "output_type": "stream",
     "text": [
      "+--------+-----+\n",
      "|Survived|count|\n",
      "+--------+-----+\n",
      "|       1|  273|\n",
      "|       0|  436|\n",
      "+--------+-----+\n",
      "\n"
     ]
    }
   ],
   "source": [
    "titanic_training_df.groupby('Survived').count().show()"
   ]
  },
  {
   "cell_type": "code",
   "execution_count": 206,
   "metadata": {},
   "outputs": [
    {
     "name": "stdout",
     "output_type": "stream",
     "text": [
      "+--------+-----+\n",
      "|Survived|count|\n",
      "+--------+-----+\n",
      "|       1|   69|\n",
      "|       0|  113|\n",
      "+--------+-----+\n",
      "\n"
     ]
    }
   ],
   "source": [
    "titanic_test_df.groupby('Survived').count().show()"
   ]
  },
  {
   "cell_type": "markdown",
   "metadata": {},
   "source": [
    "Here we can see survived with value 0 has higher count in the training and test datasets. We could they replicate the actual dataset."
   ]
  },
  {
   "cell_type": "markdown",
   "metadata": {},
   "source": [
    "#### Build and train the Logistic Regression model. Generate a list of predictions for passengers survival status (survival = 1) based on the trained model. Display actual, predicted, and probability values for the first 10 rows only. "
   ]
  },
  {
   "cell_type": "code",
   "execution_count": 207,
   "metadata": {},
   "outputs": [],
   "source": [
    "log_reg = LogisticRegression(labelCol = 'Survived').fit(titanic_training_df)"
   ]
  },
  {
   "cell_type": "code",
   "execution_count": 208,
   "metadata": {},
   "outputs": [],
   "source": [
    "train_results = log_reg.evaluate(titanic_training_df).predictions"
   ]
  },
  {
   "cell_type": "code",
   "execution_count": 209,
   "metadata": {},
   "outputs": [
    {
     "name": "stdout",
     "output_type": "stream",
     "text": [
      "+--------+----------+----------------------------------------+\n",
      "|Survived|prediction|probability                             |\n",
      "+--------+----------+----------------------------------------+\n",
      "|1       |1.0       |[0.23858521602789326,0.7614147839721067]|\n",
      "|1       |1.0       |[0.24412466946770978,0.7558753305322903]|\n",
      "|1       |1.0       |[0.24412466946770978,0.7558753305322903]|\n",
      "|1       |1.0       |[0.27915204045045505,0.720847959549545] |\n",
      "|1       |1.0       |[0.32833170367781317,0.6716682963221868]|\n",
      "|1       |1.0       |[0.32833170367781317,0.6716682963221868]|\n",
      "|1       |1.0       |[0.32833170367781317,0.6716682963221868]|\n",
      "|1       |1.0       |[0.32833170367781317,0.6716682963221868]|\n",
      "|1       |1.0       |[0.32833170367781317,0.6716682963221868]|\n",
      "|1       |1.0       |[0.32833170367781317,0.6716682963221868]|\n",
      "+--------+----------+----------------------------------------+\n",
      "only showing top 10 rows\n",
      "\n"
     ]
    }
   ],
   "source": [
    "train_results.filter(train_results['Survived'] == 1).filter(train_results['prediction'] == 1).select(['Survived', 'prediction', 'probability']).show(10,False)"
   ]
  },
  {
   "cell_type": "markdown",
   "metadata": {},
   "source": [
    "Probability at index 1 represents survival status 1 which is higher and probability at index 0 represents survival status 0. SO the model is predicting likelihood of survival with high probability"
   ]
  },
  {
   "cell_type": "markdown",
   "metadata": {},
   "source": [
    "#### Using the test data from the 80/20 split, evaluate the performance of trained model. "
   ]
  },
  {
   "cell_type": "code",
   "execution_count": 210,
   "metadata": {},
   "outputs": [],
   "source": [
    "titanic_test_results = log_reg.evaluate(titanic_test_df).predictions"
   ]
  },
  {
   "cell_type": "code",
   "execution_count": 211,
   "metadata": {},
   "outputs": [
    {
     "name": "stdout",
     "output_type": "stream",
     "text": [
      "root\n",
      " |-- Survived: integer (nullable = true)\n",
      " |-- features: vector (nullable = true)\n",
      " |-- rawPrediction: vector (nullable = true)\n",
      " |-- probability: vector (nullable = true)\n",
      " |-- prediction: double (nullable = false)\n",
      "\n"
     ]
    }
   ],
   "source": [
    "titanic_test_results.printSchema()"
   ]
  },
  {
   "cell_type": "code",
   "execution_count": 212,
   "metadata": {},
   "outputs": [
    {
     "name": "stdout",
     "output_type": "stream",
     "text": [
      "+--------+----------+----------------------------------------+\n",
      "|Survived|prediction|probability                             |\n",
      "+--------+----------+----------------------------------------+\n",
      "|0       |1.0       |[0.32833170367781317,0.6716682963221868]|\n",
      "|0       |1.0       |[0.32833170367781317,0.6716682963221868]|\n",
      "|0       |1.0       |[0.34386245001791826,0.6561375499820818]|\n",
      "|0       |0.0       |[0.7775936054669245,0.2224063945330756] |\n",
      "|0       |1.0       |[0.26048362860566554,0.7395163713943345]|\n",
      "|0       |0.0       |[0.6708093419628011,0.3291906580371989] |\n",
      "|0       |0.0       |[0.6840304212350731,0.31596957876492693]|\n",
      "|0       |0.0       |[0.6840304212350731,0.31596957876492693]|\n",
      "|0       |0.0       |[0.690532667942635,0.30946733205736493] |\n",
      "|0       |0.0       |[0.564453961542326,0.435546038457674]   |\n",
      "+--------+----------+----------------------------------------+\n",
      "only showing top 10 rows\n",
      "\n"
     ]
    }
   ],
   "source": [
    "titanic_test_results.select('Survived', 'prediction', 'probability').show(10, False)"
   ]
  },
  {
   "cell_type": "code",
   "execution_count": 213,
   "metadata": {},
   "outputs": [],
   "source": [
    "tp = titanic_test_results[(titanic_test_results.Survived == 1) & (titanic_test_results.prediction == 1)].count()"
   ]
  },
  {
   "cell_type": "code",
   "execution_count": 214,
   "metadata": {},
   "outputs": [
    {
     "data": {
      "text/plain": [
       "48"
      ]
     },
     "execution_count": 214,
     "metadata": {},
     "output_type": "execute_result"
    }
   ],
   "source": [
    "tp"
   ]
  },
  {
   "cell_type": "code",
   "execution_count": 215,
   "metadata": {},
   "outputs": [
    {
     "data": {
      "text/plain": [
       "94"
      ]
     },
     "execution_count": 215,
     "metadata": {},
     "output_type": "execute_result"
    }
   ],
   "source": [
    "tn = titanic_test_results[(titanic_test_results.Survived == 0) & (titanic_test_results.prediction == 0)].count()\n",
    "tn"
   ]
  },
  {
   "cell_type": "code",
   "execution_count": 216,
   "metadata": {},
   "outputs": [
    {
     "data": {
      "text/plain": [
       "19"
      ]
     },
     "execution_count": 216,
     "metadata": {},
     "output_type": "execute_result"
    }
   ],
   "source": [
    "fp = titanic_test_results[(titanic_test_results.Survived == 0) & (titanic_test_results.prediction == 1)].count()\n",
    "fp"
   ]
  },
  {
   "cell_type": "code",
   "execution_count": 217,
   "metadata": {},
   "outputs": [
    {
     "data": {
      "text/plain": [
       "21"
      ]
     },
     "execution_count": 217,
     "metadata": {},
     "output_type": "execute_result"
    }
   ],
   "source": [
    "fn = titanic_test_results[(titanic_test_results.Survived == 1) & (titanic_test_results.prediction == 0)].count()\n",
    "fn"
   ]
  },
  {
   "cell_type": "code",
   "execution_count": 218,
   "metadata": {},
   "outputs": [
    {
     "data": {
      "text/plain": [
       "0.7802197802197802"
      ]
     },
     "execution_count": 218,
     "metadata": {},
     "output_type": "execute_result"
    }
   ],
   "source": [
    "accuracy = (tp + tn)/(tp+tn + fp+fn)\n",
    "accuracy"
   ]
  },
  {
   "cell_type": "code",
   "execution_count": 219,
   "metadata": {},
   "outputs": [
    {
     "data": {
      "text/plain": [
       "0.6956521739130435"
      ]
     },
     "execution_count": 219,
     "metadata": {},
     "output_type": "execute_result"
    }
   ],
   "source": [
    "recall_rate = tp/(tp+fn)\n",
    "recall_rate"
   ]
  },
  {
   "cell_type": "code",
   "execution_count": 220,
   "metadata": {},
   "outputs": [
    {
     "data": {
      "text/plain": [
       "0.7164179104477612"
      ]
     },
     "execution_count": 220,
     "metadata": {},
     "output_type": "execute_result"
    }
   ],
   "source": [
    "precision = tp/(tp+fp)\n",
    "precision"
   ]
  },
  {
   "cell_type": "code",
   "execution_count": 229,
   "metadata": {},
   "outputs": [
    {
     "data": {
      "text/plain": [
       "0.7058823529411765"
      ]
     },
     "execution_count": 229,
     "metadata": {},
     "output_type": "execute_result"
    }
   ],
   "source": [
    "F1_score = 2*((precision*recall_rate)/(precision+recall_rate))\n",
    "F1_score"
   ]
  },
  {
   "cell_type": "code",
   "execution_count": 223,
   "metadata": {},
   "outputs": [],
   "source": [
    "titanic_test_results_summary = log_reg.summary"
   ]
  },
  {
   "cell_type": "code",
   "execution_count": 224,
   "metadata": {},
   "outputs": [
    {
     "name": "stdout",
     "output_type": "stream",
     "text": [
      "areaUnderROC: 0.8530219780219778\n"
     ]
    }
   ],
   "source": [
    "print(\"areaUnderROC: \" + str(titanic_test_results_summary.areaUnderROC))"
   ]
  },
  {
   "cell_type": "markdown",
   "metadata": {},
   "source": [
    "F1 is higher which means it has better model.\n",
    "Accuracy is around 80%, recall_rate is around 69%, Precision is useful when the costs of false positives are high. recall_rate is useful when the cost of false negatives is high. Here, for the Survived class, the model is only right 48% of the time.\n",
    "F1 score is considered to be a better model when the value is 1 and we have low false positives and low false negatives. Here we got lower false positives and false negatives."
   ]
  },
  {
   "cell_type": "code",
   "execution_count": 146,
   "metadata": {},
   "outputs": [],
   "source": [
    "titanic_training_df_summary = log_reg.summary"
   ]
  },
  {
   "cell_type": "code",
   "execution_count": 147,
   "metadata": {},
   "outputs": [
    {
     "name": "stdout",
     "output_type": "stream",
     "text": [
      "<pyspark.ml.classification.BinaryLogisticRegressionTrainingSummary object at 0x000002462A432F08>\n"
     ]
    }
   ],
   "source": [
    "print(titanic_training_df_summary)"
   ]
  },
  {
   "cell_type": "code",
   "execution_count": 148,
   "metadata": {},
   "outputs": [
    {
     "name": "stdout",
     "output_type": "stream",
     "text": [
      "areaUnderROC: 0.8514561908679555\n"
     ]
    }
   ],
   "source": [
    "print(\"areaUnderROC: \" + str(titanic_training_df_summary.areaUnderROC))"
   ]
  },
  {
   "cell_type": "code",
   "execution_count": 149,
   "metadata": {},
   "outputs": [
    {
     "name": "stdout",
     "output_type": "stream",
     "text": [
      "0.797768479776848\n",
      "0.7977684797768481\n",
      "0.7957148847859118\n",
      "0.795545199195282\n"
     ]
    }
   ],
   "source": [
    "print(titanic_training_df_summary.accuracy)\n",
    "print(titanic_training_df_summary.weightedRecall)\n",
    "print(titanic_training_df_summary.weightedPrecision)\n",
    "print(titanic_training_df_summary.weightedFMeasure())"
   ]
  },
  {
   "cell_type": "markdown",
   "metadata": {},
   "source": [
    "AUC is 85% which implies its better at predicting survived and not survived passengers. Higher the AUC is, better the model is at dtstinguishing between passengers survived and those who did not.We have similar results for the test and trained models"
   ]
  }
 ],
 "metadata": {
  "kernelspec": {
   "display_name": "Python 3",
   "language": "python",
   "name": "python3"
  },
  "language_info": {
   "codemirror_mode": {
    "name": "ipython",
    "version": 3
   },
   "file_extension": ".py",
   "mimetype": "text/x-python",
   "name": "python",
   "nbconvert_exporter": "python",
   "pygments_lexer": "ipython3",
   "version": "3.7.6"
  }
 },
 "nbformat": 4,
 "nbformat_minor": 2
}
