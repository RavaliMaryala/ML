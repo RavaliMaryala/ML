{
 "cells": [
  {
   "cell_type": "code",
   "execution_count": 84,
   "metadata": {},
   "outputs": [],
   "source": [
    "from pyspark.sql import SparkSession"
   ]
  },
  {
   "cell_type": "code",
   "execution_count": 85,
   "metadata": {},
   "outputs": [],
   "source": [
    "spark = SparkSession.builder.appName(\"Sample Data Processing\").getOrCreate()"
   ]
  },
  {
   "cell_type": "code",
   "execution_count": 86,
   "metadata": {},
   "outputs": [],
   "source": [
    "AutoMPGdf = spark.read.csv(\"D:/AutoMPG.csv\", inferSchema = True, header = True)"
   ]
  },
  {
   "cell_type": "markdown",
   "metadata": {},
   "source": [
    "#### shape of the data contained in AutoMPG.csv"
   ]
  },
  {
   "cell_type": "code",
   "execution_count": 87,
   "metadata": {},
   "outputs": [
    {
     "name": "stdout",
     "output_type": "stream",
     "text": [
      "392 9\n"
     ]
    }
   ],
   "source": [
    "print(AutoMPGdf.count(), len(AutoMPGdf.columns))"
   ]
  },
  {
   "cell_type": "markdown",
   "metadata": {},
   "source": [
    "#### Features (or attributes) recorded for each automobile"
   ]
  },
  {
   "cell_type": "code",
   "execution_count": 88,
   "metadata": {},
   "outputs": [
    {
     "data": {
      "text/plain": [
       "['mpg',\n",
       " 'cylinders',\n",
       " 'displacement',\n",
       " 'hp',\n",
       " 'weight',\n",
       " 'acceleration',\n",
       " 'model_year',\n",
       " 'origin',\n",
       " 'car_name']"
      ]
     },
     "execution_count": 88,
     "metadata": {},
     "output_type": "execute_result"
    }
   ],
   "source": [
    "AutoMPGdf.columns"
   ]
  },
  {
   "cell_type": "markdown",
   "metadata": {},
   "source": [
    "#### Provide a schema of the AutoMPG data set to verify that all relevant features contain numeric data type. Are there any columns/features that is not applicable in developing a Linear Regression algorithm? That is, does not meet the requirements/assumptions to use a Linear Regression model. If so, eliminate those columns from further analysis and regenerate the schema to ensure that the ‘offending’ column is removed from further analysis. Remember, it should not be permanently removed from the dataset. "
   ]
  },
  {
   "cell_type": "code",
   "execution_count": 89,
   "metadata": {},
   "outputs": [
    {
     "name": "stdout",
     "output_type": "stream",
     "text": [
      "root\n",
      " |-- mpg: double (nullable = true)\n",
      " |-- cylinders: integer (nullable = true)\n",
      " |-- displacement: double (nullable = true)\n",
      " |-- hp: double (nullable = true)\n",
      " |-- weight: double (nullable = true)\n",
      " |-- acceleration: double (nullable = true)\n",
      " |-- model_year: integer (nullable = true)\n",
      " |-- origin: integer (nullable = true)\n",
      " |-- car_name: string (nullable = true)\n",
      "\n"
     ]
    }
   ],
   "source": [
    "AutoMPGdf.printSchema()"
   ]
  },
  {
   "cell_type": "code",
   "execution_count": 95,
   "metadata": {},
   "outputs": [],
   "source": [
    "AutoMPGdf1 = AutoMPGdf.select('mpg','cylinders','displacement','hp','weight','acceleration','model_year','origin')"
   ]
  },
  {
   "cell_type": "code",
   "execution_count": 91,
   "metadata": {},
   "outputs": [],
   "source": [
    "#AutoMPGdf = AutoMPGdf.drop('car_name')\n",
    "#Only the column 'car_name' has string values, so dropping it"
   ]
  },
  {
   "cell_type": "code",
   "execution_count": 96,
   "metadata": {},
   "outputs": [
    {
     "name": "stdout",
     "output_type": "stream",
     "text": [
      "root\n",
      " |-- mpg: double (nullable = true)\n",
      " |-- cylinders: integer (nullable = true)\n",
      " |-- displacement: double (nullable = true)\n",
      " |-- hp: double (nullable = true)\n",
      " |-- weight: double (nullable = true)\n",
      " |-- acceleration: double (nullable = true)\n",
      " |-- model_year: integer (nullable = true)\n",
      " |-- origin: integer (nullable = true)\n",
      "\n"
     ]
    }
   ],
   "source": [
    "AutoMPGdf1.printSchema()"
   ]
  },
  {
   "cell_type": "code",
   "execution_count": 98,
   "metadata": {},
   "outputs": [
    {
     "name": "stdout",
     "output_type": "stream",
     "text": [
      "+----+---------+------------+-----+------+------------+----------+------+\n",
      "| mpg|cylinders|displacement|   hp|weight|acceleration|model_year|origin|\n",
      "+----+---------+------------+-----+------+------------+----------+------+\n",
      "|18.0|        8|       307.0|130.0|3504.0|        12.0|        70|     1|\n",
      "|15.0|        8|       350.0|165.0|3693.0|        11.5|        70|     1|\n",
      "|18.0|        8|       318.0|150.0|3436.0|        11.0|        70|     1|\n",
      "|16.0|        8|       304.0|150.0|3433.0|        12.0|        70|     1|\n",
      "|17.0|        8|       302.0|140.0|3449.0|        10.5|        70|     1|\n",
      "|15.0|        8|       429.0|198.0|4341.0|        10.0|        70|     1|\n",
      "|14.0|        8|       454.0|220.0|4354.0|         9.0|        70|     1|\n",
      "|14.0|        8|       440.0|215.0|4312.0|         8.5|        70|     1|\n",
      "|14.0|        8|       455.0|225.0|4425.0|        10.0|        70|     1|\n",
      "|15.0|        8|       390.0|190.0|3850.0|         8.5|        70|     1|\n",
      "|15.0|        8|       383.0|170.0|3563.0|        10.0|        70|     1|\n",
      "|14.0|        8|       340.0|160.0|3609.0|         8.0|        70|     1|\n",
      "|15.0|        8|       400.0|150.0|3761.0|         9.5|        70|     1|\n",
      "|14.0|        8|       455.0|225.0|3086.0|        10.0|        70|     1|\n",
      "|24.0|        4|       113.0| 95.0|2372.0|        15.0|        70|     3|\n",
      "|22.0|        6|       198.0| 95.0|2833.0|        15.5|        70|     1|\n",
      "|18.0|        6|       199.0| 97.0|2774.0|        15.5|        70|     1|\n",
      "|21.0|        6|       200.0| 85.0|2587.0|        16.0|        70|     1|\n",
      "|27.0|        4|        97.0| 88.0|2130.0|        14.5|        70|     3|\n",
      "|26.0|        4|        97.0| 46.0|1835.0|        20.5|        70|     2|\n",
      "+----+---------+------------+-----+------+------------+----------+------+\n",
      "only showing top 20 rows\n",
      "\n"
     ]
    }
   ],
   "source": [
    "AutoMPGdf1.show()"
   ]
  },
  {
   "cell_type": "markdown",
   "metadata": {},
   "source": [
    "#### Evaluate the correlation between mpg and each of the independent variables (pairwise mpg and cylinders, mpg and displacement, etc.). Correlation coefficient value ranges from -1 to +1; closer to 1, stronger the relationship. "
   ]
  },
  {
   "cell_type": "code",
   "execution_count": 43,
   "metadata": {},
   "outputs": [],
   "source": [
    "from pyspark.sql.functions import corr"
   ]
  },
  {
   "cell_type": "code",
   "execution_count": 99,
   "metadata": {},
   "outputs": [
    {
     "name": "stdout",
     "output_type": "stream",
     "text": [
      "+--------------------+\n",
      "|corr(mpg, cylinders)|\n",
      "+--------------------+\n",
      "| -0.7776175081260227|\n",
      "+--------------------+\n",
      "\n"
     ]
    }
   ],
   "source": [
    "AutoMPGdf1.select(corr('mpg','cylinders')).show()"
   ]
  },
  {
   "cell_type": "code",
   "execution_count": 100,
   "metadata": {},
   "outputs": [
    {
     "name": "stdout",
     "output_type": "stream",
     "text": [
      "+-----------------------+\n",
      "|corr(mpg, displacement)|\n",
      "+-----------------------+\n",
      "|    -0.8051269467104577|\n",
      "+-----------------------+\n",
      "\n"
     ]
    }
   ],
   "source": [
    "AutoMPGdf1.select(corr('mpg','displacement')).show()"
   ]
  },
  {
   "cell_type": "code",
   "execution_count": 101,
   "metadata": {},
   "outputs": [
    {
     "name": "stdout",
     "output_type": "stream",
     "text": [
      "+-------------------+\n",
      "|      corr(mpg, hp)|\n",
      "+-------------------+\n",
      "|-0.7784267838977761|\n",
      "+-------------------+\n",
      "\n"
     ]
    }
   ],
   "source": [
    "AutoMPGdf1.select(corr('mpg','hp')).show()"
   ]
  },
  {
   "cell_type": "code",
   "execution_count": 102,
   "metadata": {},
   "outputs": [
    {
     "name": "stdout",
     "output_type": "stream",
     "text": [
      "+------------------+\n",
      "| corr(mpg, weight)|\n",
      "+------------------+\n",
      "|-0.832244214831575|\n",
      "+------------------+\n",
      "\n"
     ]
    }
   ],
   "source": [
    "AutoMPGdf1.select(corr('mpg','weight')).show()"
   ]
  },
  {
   "cell_type": "code",
   "execution_count": 103,
   "metadata": {},
   "outputs": [
    {
     "name": "stdout",
     "output_type": "stream",
     "text": [
      "+-----------------------+\n",
      "|corr(mpg, acceleration)|\n",
      "+-----------------------+\n",
      "|    0.42332853690278693|\n",
      "+-----------------------+\n",
      "\n"
     ]
    }
   ],
   "source": [
    "AutoMPGdf1.select(corr('mpg','acceleration')).show()"
   ]
  },
  {
   "cell_type": "code",
   "execution_count": 104,
   "metadata": {},
   "outputs": [
    {
     "name": "stdout",
     "output_type": "stream",
     "text": [
      "+---------------------+\n",
      "|corr(mpg, model_year)|\n",
      "+---------------------+\n",
      "|   0.5805409660907859|\n",
      "+---------------------+\n",
      "\n"
     ]
    }
   ],
   "source": [
    "AutoMPGdf1.select(corr('mpg','model_year')).show()"
   ]
  },
  {
   "cell_type": "code",
   "execution_count": 105,
   "metadata": {},
   "outputs": [
    {
     "name": "stdout",
     "output_type": "stream",
     "text": [
      "+------------------+\n",
      "| corr(mpg, origin)|\n",
      "+------------------+\n",
      "|0.5652087567164604|\n",
      "+------------------+\n",
      "\n"
     ]
    }
   ],
   "source": [
    "AutoMPGdf1.select(corr('mpg','origin')).show()"
   ]
  },
  {
   "cell_type": "markdown",
   "metadata": {},
   "source": [
    "There's a negative(Strong) correlation between the variable mpg and variables weight, displacement, hp and cylinders., which means when there's an increase in mpg, the other above listed varibles decreases.\n",
    "\n",
    "A strong positive correlation exists between mpg and origin AND mpg and model_year., which means with an increase in mpg, model_year increases.\n",
    "\n",
    "A moderate correlation exists between mpg and accelaration."
   ]
  },
  {
   "cell_type": "markdown",
   "metadata": {},
   "source": [
    "#### Provide a listing of summary descriptive statistics such as average and standard deviation for each relevant attribute. Round all float data to two decimal places."
   ]
  },
  {
   "cell_type": "code",
   "execution_count": 106,
   "metadata": {},
   "outputs": [
    {
     "name": "stdout",
     "output_type": "stream",
     "text": [
      "+-------+-----------------+------------------+------------------+------------------+------------------+------------------+-----------------+------------------+\n",
      "|summary|              mpg|         cylinders|      displacement|                hp|            weight|      acceleration|       model_year|            origin|\n",
      "+-------+-----------------+------------------+------------------+------------------+------------------+------------------+-----------------+------------------+\n",
      "|  count|              392|               392|               392|               392|               392|               392|              392|               392|\n",
      "|   mean|23.44591836734694| 5.471938775510204|194.41198979591837|104.46938775510205|2977.5841836734694|15.541326530612228| 75.9795918367347|1.5765306122448979|\n",
      "| stddev|7.805007486571802|1.7057832474527845|104.64400390890465| 38.49115993282846| 849.4025600429486|  2.75886411918808|3.683736543577868|0.8055181834183057|\n",
      "|    min|              9.0|                 3|              68.0|              46.0|            1613.0|               8.0|               70|                 1|\n",
      "|    max|             46.6|                 8|             455.0|             230.0|            5140.0|              24.8|               82|                 3|\n",
      "+-------+-----------------+------------------+------------------+------------------+------------------+------------------+-----------------+------------------+\n",
      "\n"
     ]
    }
   ],
   "source": [
    "AutoMPGdf1.describe().show()"
   ]
  },
  {
   "cell_type": "markdown",
   "metadata": {},
   "source": [
    "#### Collapse all independent variables/features into a single vector in preparation for Linear Regression analysis. Print the first 5 rows of the new data."
   ]
  },
  {
   "cell_type": "code",
   "execution_count": 107,
   "metadata": {},
   "outputs": [],
   "source": [
    "from pyspark.ml.linalg import Vector"
   ]
  },
  {
   "cell_type": "code",
   "execution_count": 108,
   "metadata": {},
   "outputs": [],
   "source": [
    "from pyspark.ml.feature import VectorAssembler"
   ]
  },
  {
   "cell_type": "code",
   "execution_count": 109,
   "metadata": {},
   "outputs": [],
   "source": [
    "vec_assemble = VectorAssembler(inputCols = ['cylinders','displacement','hp','weight','acceleration','model_year','origin'], outputCol = 'features')"
   ]
  },
  {
   "cell_type": "code",
   "execution_count": 112,
   "metadata": {},
   "outputs": [],
   "source": [
    "df_features = vec_assemble.transform(AutoMPGdf1)"
   ]
  },
  {
   "cell_type": "code",
   "execution_count": 113,
   "metadata": {},
   "outputs": [
    {
     "name": "stdout",
     "output_type": "stream",
     "text": [
      "root\n",
      " |-- mpg: double (nullable = true)\n",
      " |-- cylinders: integer (nullable = true)\n",
      " |-- displacement: double (nullable = true)\n",
      " |-- hp: double (nullable = true)\n",
      " |-- weight: double (nullable = true)\n",
      " |-- acceleration: double (nullable = true)\n",
      " |-- model_year: integer (nullable = true)\n",
      " |-- origin: integer (nullable = true)\n",
      " |-- features: vector (nullable = true)\n",
      "\n"
     ]
    }
   ],
   "source": [
    "df_features.printSchema()"
   ]
  },
  {
   "cell_type": "code",
   "execution_count": 114,
   "metadata": {},
   "outputs": [
    {
     "name": "stdout",
     "output_type": "stream",
     "text": [
      "+----+---------+------------+-----+------+------------+----------+------+--------------------------------------+\n",
      "|mpg |cylinders|displacement|hp   |weight|acceleration|model_year|origin|features                              |\n",
      "+----+---------+------------+-----+------+------------+----------+------+--------------------------------------+\n",
      "|18.0|8        |307.0       |130.0|3504.0|12.0        |70        |1     |[8.0,307.0,130.0,3504.0,12.0,70.0,1.0]|\n",
      "|15.0|8        |350.0       |165.0|3693.0|11.5        |70        |1     |[8.0,350.0,165.0,3693.0,11.5,70.0,1.0]|\n",
      "|18.0|8        |318.0       |150.0|3436.0|11.0        |70        |1     |[8.0,318.0,150.0,3436.0,11.0,70.0,1.0]|\n",
      "|16.0|8        |304.0       |150.0|3433.0|12.0        |70        |1     |[8.0,304.0,150.0,3433.0,12.0,70.0,1.0]|\n",
      "|17.0|8        |302.0       |140.0|3449.0|10.5        |70        |1     |[8.0,302.0,140.0,3449.0,10.5,70.0,1.0]|\n",
      "+----+---------+------------+-----+------+------------+----------+------+--------------------------------------+\n",
      "only showing top 5 rows\n",
      "\n"
     ]
    }
   ],
   "source": [
    "df_features.show(5,False)"
   ]
  },
  {
   "cell_type": "code",
   "execution_count": 115,
   "metadata": {},
   "outputs": [
    {
     "name": "stdout",
     "output_type": "stream",
     "text": [
      "392 9\n"
     ]
    }
   ],
   "source": [
    "print(df_features.count(), len(df_features.columns))"
   ]
  },
  {
   "cell_type": "code",
   "execution_count": 116,
   "metadata": {},
   "outputs": [],
   "source": [
    "df_model = df_features.select('features', 'mpg')"
   ]
  },
  {
   "cell_type": "code",
   "execution_count": 117,
   "metadata": {},
   "outputs": [
    {
     "name": "stdout",
     "output_type": "stream",
     "text": [
      "+--------------------------------------+----+\n",
      "|features                              |mpg |\n",
      "+--------------------------------------+----+\n",
      "|[8.0,307.0,130.0,3504.0,12.0,70.0,1.0]|18.0|\n",
      "|[8.0,350.0,165.0,3693.0,11.5,70.0,1.0]|15.0|\n",
      "|[8.0,318.0,150.0,3436.0,11.0,70.0,1.0]|18.0|\n",
      "|[8.0,304.0,150.0,3433.0,12.0,70.0,1.0]|16.0|\n",
      "|[8.0,302.0,140.0,3449.0,10.5,70.0,1.0]|17.0|\n",
      "+--------------------------------------+----+\n",
      "only showing top 5 rows\n",
      "\n"
     ]
    }
   ],
   "source": [
    "df_model.show(5,False)"
   ]
  },
  {
   "cell_type": "code",
   "execution_count": 118,
   "metadata": {},
   "outputs": [
    {
     "name": "stdout",
     "output_type": "stream",
     "text": [
      "392 2\n"
     ]
    }
   ],
   "source": [
    "print(df_model.count(), len(df_model.columns))"
   ]
  },
  {
   "cell_type": "markdown",
   "metadata": {},
   "source": [
    "#### For training the regression model and its subsequent evaluation, generate the training data and test data from your refined AutoMPG dataset, the dataset will be split 80/20 so that 80% of the data will be used to train the model and the remaining 20% to evaluate the model. Provide a shape for each dataset."
   ]
  },
  {
   "cell_type": "code",
   "execution_count": 119,
   "metadata": {},
   "outputs": [],
   "source": [
    "train_df, test_df = df_model.randomSplit([0.80, 0.20])"
   ]
  },
  {
   "cell_type": "code",
   "execution_count": 120,
   "metadata": {},
   "outputs": [
    {
     "name": "stdout",
     "output_type": "stream",
     "text": [
      "323 2\n"
     ]
    }
   ],
   "source": [
    "print(train_df.count(), len(train_df.columns))"
   ]
  },
  {
   "cell_type": "code",
   "execution_count": 121,
   "metadata": {},
   "outputs": [
    {
     "name": "stdout",
     "output_type": "stream",
     "text": [
      "+-------------------------------------+----+\n",
      "|features                             |mpg |\n",
      "+-------------------------------------+----+\n",
      "|[3.0,70.0,90.0,2124.0,13.5,73.0,3.0] |18.0|\n",
      "|[3.0,70.0,97.0,2330.0,13.5,72.0,3.0] |19.0|\n",
      "|[3.0,70.0,100.0,2420.0,12.5,80.0,3.0]|23.7|\n",
      "|[3.0,80.0,110.0,2720.0,13.5,77.0,3.0]|21.5|\n",
      "|[4.0,68.0,49.0,1867.0,19.5,73.0,2.0] |29.0|\n",
      "+-------------------------------------+----+\n",
      "only showing top 5 rows\n",
      "\n"
     ]
    }
   ],
   "source": [
    "train_df.show(5, False)"
   ]
  },
  {
   "cell_type": "code",
   "execution_count": 122,
   "metadata": {},
   "outputs": [
    {
     "name": "stdout",
     "output_type": "stream",
     "text": [
      "69 2\n"
     ]
    }
   ],
   "source": [
    "print(test_df.count(), len(test_df.columns))"
   ]
  },
  {
   "cell_type": "code",
   "execution_count": 123,
   "metadata": {},
   "outputs": [
    {
     "name": "stdout",
     "output_type": "stream",
     "text": [
      "+------------------------------------+----+\n",
      "|features                            |mpg |\n",
      "+------------------------------------+----+\n",
      "|[4.0,79.0,67.0,2000.0,16.0,74.0,2.0]|31.0|\n",
      "|[4.0,81.0,60.0,1760.0,16.1,81.0,3.0]|35.1|\n",
      "|[4.0,83.0,61.0,2003.0,19.0,74.0,3.0]|32.0|\n",
      "|[4.0,86.0,64.0,1875.0,16.4,81.0,1.0]|39.0|\n",
      "|[4.0,86.0,65.0,2019.0,16.4,80.0,3.0]|37.2|\n",
      "+------------------------------------+----+\n",
      "only showing top 5 rows\n",
      "\n"
     ]
    }
   ],
   "source": [
    "test_df.show(5, False)"
   ]
  },
  {
   "cell_type": "markdown",
   "metadata": {},
   "source": [
    "#### Using the training data, evaluate the correlation between mpg and each of the independent Use the training data to fit a regression model to predict mpg given values for the number of cylinders, displacement, hp,  weight, acceleration, model_year and origin. "
   ]
  },
  {
   "cell_type": "code",
   "execution_count": 124,
   "metadata": {},
   "outputs": [],
   "source": [
    "from pyspark.ml.regression import LinearRegression"
   ]
  },
  {
   "cell_type": "code",
   "execution_count": 125,
   "metadata": {},
   "outputs": [],
   "source": [
    "lin_model = LinearRegression(labelCol = 'mpg').fit(train_df)"
   ]
  },
  {
   "cell_type": "markdown",
   "metadata": {},
   "source": [
    "#### For the trained model, find out the y-intercept value And what are the coefficients for each of the independent variables in the fitted model. "
   ]
  },
  {
   "cell_type": "code",
   "execution_count": 126,
   "metadata": {},
   "outputs": [
    {
     "name": "stdout",
     "output_type": "stream",
     "text": [
      "-18.314611243742327\n"
     ]
    }
   ],
   "source": [
    "print(lin_model.intercept)\n",
    "#y-intercept value"
   ]
  },
  {
   "cell_type": "code",
   "execution_count": 127,
   "metadata": {},
   "outputs": [
    {
     "name": "stdout",
     "output_type": "stream",
     "text": [
      "[-0.2513495647412005,0.01822179013048275,-0.016632031389036225,-0.006672671865984077,0.10859215994827294,0.7550793976016926,1.4188299216433296]\n"
     ]
    }
   ],
   "source": [
    "print(lin_model.coefficients)"
   ]
  },
  {
   "cell_type": "markdown",
   "metadata": {},
   "source": [
    "Coeeficient of cylinder : -0.43932763979855943\n",
    "Coeeficient of displacement :  0.017789853702498543\n",
    "Coeeficient of hp : -0.00993030935705881\n",
    "Coeeficient of weight : -0.0068300965930229475\n",
    "Coeeficient of accelaration :  0.1577163540503644\n",
    "Coeeficient of model_year :  0.7509857969857413\n",
    "Coeeficient of origin :  1.2807157574083199\n"
   ]
  },
  {
   "cell_type": "markdown",
   "metadata": {},
   "source": [
    "#### For the trained model, print the Mean Sum of Squared Error and R-Square values. What does this tell you about the usefulness of the fitted model to predict mpg? Is the model any good? Remember, R-Square values range from 0 to 1.00; closer to 1.00 the better the predictive power of the model. "
   ]
  },
  {
   "cell_type": "code",
   "execution_count": 128,
   "metadata": {},
   "outputs": [],
   "source": [
    "training_predictions = lin_model.evaluate(train_df)"
   ]
  },
  {
   "cell_type": "code",
   "execution_count": 129,
   "metadata": {},
   "outputs": [
    {
     "name": "stdout",
     "output_type": "stream",
     "text": [
      "0.816505814775914\n"
     ]
    }
   ],
   "source": [
    "print(training_predictions.r2)"
   ]
  },
  {
   "cell_type": "code",
   "execution_count": 130,
   "metadata": {},
   "outputs": [
    {
     "name": "stdout",
     "output_type": "stream",
     "text": [
      "10.977391460650379\n"
     ]
    }
   ],
   "source": [
    "print(training_predictions.meanSquaredError)"
   ]
  },
  {
   "cell_type": "markdown",
   "metadata": {},
   "source": [
    "Usefulness of the fitted model - R-squared value implies it has better prediction power; It is a good model"
   ]
  },
  {
   "cell_type": "markdown",
   "metadata": {},
   "source": [
    "#### Now that you have trained your model, evaluate it using the test data. Using the values of R-Square and Mean sum of Squared Error, what can you say about the reliability of the trained model to predict mpg with test data. "
   ]
  },
  {
   "cell_type": "code",
   "execution_count": 131,
   "metadata": {},
   "outputs": [],
   "source": [
    "test_predictions = lin_model.evaluate(test_df)"
   ]
  },
  {
   "cell_type": "code",
   "execution_count": 132,
   "metadata": {},
   "outputs": [
    {
     "name": "stdout",
     "output_type": "stream",
     "text": [
      "0.8377414126175153\n"
     ]
    }
   ],
   "source": [
    "print(test_predictions.r2)\n"
   ]
  },
  {
   "cell_type": "code",
   "execution_count": 133,
   "metadata": {},
   "outputs": [
    {
     "name": "stdout",
     "output_type": "stream",
     "text": [
      "10.414349825372787\n"
     ]
    }
   ],
   "source": [
    "print(test_predictions.meanSquaredError)"
   ]
  },
  {
   "cell_type": "markdown",
   "metadata": {},
   "source": [
    "Test and trained models have similar r2 and mean squared error values, hence we can say it is reliable."
   ]
  },
  {
   "cell_type": "code",
   "execution_count": null,
   "metadata": {},
   "outputs": [],
   "source": []
  }
 ],
 "metadata": {
  "kernelspec": {
   "display_name": "Python 3",
   "language": "python",
   "name": "python3"
  },
  "language_info": {
   "codemirror_mode": {
    "name": "ipython",
    "version": 3
   },
   "file_extension": ".py",
   "mimetype": "text/x-python",
   "name": "python",
   "nbconvert_exporter": "python",
   "pygments_lexer": "ipython3",
   "version": "3.7.6"
  }
 },
 "nbformat": 4,
 "nbformat_minor": 2
}
