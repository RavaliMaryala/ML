{
 "cells": [
  {
   "cell_type": "code",
   "execution_count": 110,
   "metadata": {},
   "outputs": [],
   "source": [
    "from pyspark.sql import SparkSession\n",
    "from pyspark.ml.feature import StringIndexer, VectorAssembler, OneHotEncoder\n",
    "from pyspark.ml.classification import LogisticRegression"
   ]
  },
  {
   "cell_type": "code",
   "execution_count": 111,
   "metadata": {},
   "outputs": [],
   "source": [
    "spark = SparkSession.builder.appName('Exam1').getOrCreate()"
   ]
  },
  {
   "cell_type": "code",
   "execution_count": 112,
   "metadata": {
    "scrolled": true
   },
   "outputs": [],
   "source": [
    "housing_df = spark.read.csv(\"D:/housing.csv\", inferSchema = True, header = True)"
   ]
  },
  {
   "cell_type": "code",
   "execution_count": 113,
   "metadata": {},
   "outputs": [
    {
     "name": "stdout",
     "output_type": "stream",
     "text": [
      "506 13\n"
     ]
    }
   ],
   "source": [
    "print(housing_df.count(), len(housing_df.columns))"
   ]
  },
  {
   "cell_type": "markdown",
   "metadata": {},
   "source": [
    "This implies it has 506 rows and 13 columns"
   ]
  },
  {
   "cell_type": "code",
   "execution_count": 114,
   "metadata": {},
   "outputs": [
    {
     "name": "stdout",
     "output_type": "stream",
     "text": [
      "root\n",
      " |-- CRIM: double (nullable = true)\n",
      " |-- ZN: double (nullable = true)\n",
      " |-- INDUS: double (nullable = true)\n",
      " |-- CHAS: string (nullable = true)\n",
      " |-- NOX: double (nullable = true)\n",
      " |-- RM: double (nullable = true)\n",
      " |-- AGE: double (nullable = true)\n",
      " |-- DIS: double (nullable = true)\n",
      " |-- RAD: integer (nullable = true)\n",
      " |-- TAX: integer (nullable = true)\n",
      " |-- PTRATIO: double (nullable = true)\n",
      " |-- LSTAT: double (nullable = true)\n",
      " |-- MEDVAL: double (nullable = true)\n",
      "\n"
     ]
    }
   ],
   "source": [
    "housing_df.printSchema()"
   ]
  },
  {
   "cell_type": "markdown",
   "metadata": {},
   "source": [
    "From the above schema we can see that column 'CHAS' has a string datatype i.e., categorical in nature.This needs to be conevrted into numerical form as MAchine mearning model cannot understand the categorical values, they only take data in numerical format. \n",
    "The conversion can be done using dummification ie., creating a dummy variable to make the feature regression-complaint."
   ]
  },
  {
   "cell_type": "code",
   "execution_count": 115,
   "metadata": {},
   "outputs": [],
   "source": [
    "from pyspark.sql.functions import corr"
   ]
  },
  {
   "cell_type": "code",
   "execution_count": 116,
   "metadata": {},
   "outputs": [
    {
     "name": "stdout",
     "output_type": "stream",
     "text": [
      "+--------------------+\n",
      "|  corr(MEDVAL, CRIM)|\n",
      "+--------------------+\n",
      "|-0.38830460858681154|\n",
      "+--------------------+\n",
      "\n"
     ]
    }
   ],
   "source": [
    "housing_df.select(corr('MEDVAL','CRIM')).show()"
   ]
  },
  {
   "cell_type": "code",
   "execution_count": 117,
   "metadata": {},
   "outputs": [
    {
     "name": "stdout",
     "output_type": "stream",
     "text": [
      "+------------------+\n",
      "|  corr(MEDVAL, ZN)|\n",
      "+------------------+\n",
      "|0.3604453424505433|\n",
      "+------------------+\n",
      "\n"
     ]
    }
   ],
   "source": [
    "housing_df.select(corr('MEDVAL','ZN')).show()"
   ]
  },
  {
   "cell_type": "code",
   "execution_count": 118,
   "metadata": {},
   "outputs": [
    {
     "name": "stdout",
     "output_type": "stream",
     "text": [
      "+-------------------+\n",
      "|corr(MEDVAL, INDUS)|\n",
      "+-------------------+\n",
      "|-0.4837251600283728|\n",
      "+-------------------+\n",
      "\n"
     ]
    }
   ],
   "source": [
    "housing_df.select(corr('MEDVAL','INDUS')).show()"
   ]
  },
  {
   "cell_type": "code",
   "execution_count": 119,
   "metadata": {},
   "outputs": [
    {
     "name": "stdout",
     "output_type": "stream",
     "text": [
      "+-------------------+\n",
      "|  corr(MEDVAL, NOX)|\n",
      "+-------------------+\n",
      "|-0.4273207723732821|\n",
      "+-------------------+\n",
      "\n"
     ]
    }
   ],
   "source": [
    "housing_df.select(corr('MEDVAL','NOX')).show()"
   ]
  },
  {
   "cell_type": "code",
   "execution_count": 120,
   "metadata": {},
   "outputs": [
    {
     "name": "stdout",
     "output_type": "stream",
     "text": [
      "+------------------+\n",
      "|  corr(MEDVAL, RM)|\n",
      "+------------------+\n",
      "|0.6953599470715401|\n",
      "+------------------+\n",
      "\n"
     ]
    }
   ],
   "source": [
    "housing_df.select(corr('MEDVAL','RM')).show()"
   ]
  },
  {
   "cell_type": "code",
   "execution_count": 121,
   "metadata": {},
   "outputs": [
    {
     "name": "stdout",
     "output_type": "stream",
     "text": [
      "+-------------------+\n",
      "|  corr(MEDVAL, AGE)|\n",
      "+-------------------+\n",
      "|-0.3769545650045961|\n",
      "+-------------------+\n",
      "\n"
     ]
    }
   ],
   "source": [
    "housing_df.select(corr('MEDVAL','AGE')).show()"
   ]
  },
  {
   "cell_type": "code",
   "execution_count": 122,
   "metadata": {},
   "outputs": [
    {
     "name": "stdout",
     "output_type": "stream",
     "text": [
      "+-----------------+\n",
      "|corr(MEDVAL, DIS)|\n",
      "+-----------------+\n",
      "|0.249928734085904|\n",
      "+-----------------+\n",
      "\n"
     ]
    }
   ],
   "source": [
    "housing_df.select(corr('MEDVAL','DIS')).show()"
   ]
  },
  {
   "cell_type": "code",
   "execution_count": 123,
   "metadata": {},
   "outputs": [
    {
     "name": "stdout",
     "output_type": "stream",
     "text": [
      "+--------------------+\n",
      "|   corr(MEDVAL, RAD)|\n",
      "+--------------------+\n",
      "|-0.38162623063977735|\n",
      "+--------------------+\n",
      "\n"
     ]
    }
   ],
   "source": [
    "housing_df.select(corr('MEDVAL','RAD')).show()"
   ]
  },
  {
   "cell_type": "code",
   "execution_count": 124,
   "metadata": {},
   "outputs": [
    {
     "name": "stdout",
     "output_type": "stream",
     "text": [
      "+--------------------+\n",
      "|   corr(MEDVAL, TAX)|\n",
      "+--------------------+\n",
      "|-0.46853593356776674|\n",
      "+--------------------+\n",
      "\n"
     ]
    }
   ],
   "source": [
    "housing_df.select(corr('MEDVAL','TAX')).show()"
   ]
  },
  {
   "cell_type": "code",
   "execution_count": 125,
   "metadata": {},
   "outputs": [
    {
     "name": "stdout",
     "output_type": "stream",
     "text": [
      "+---------------------+\n",
      "|corr(MEDVAL, PTRATIO)|\n",
      "+---------------------+\n",
      "|  -0.5077866855375622|\n",
      "+---------------------+\n",
      "\n"
     ]
    }
   ],
   "source": [
    "housing_df.select(corr('MEDVAL','PTRATIO')).show()"
   ]
  },
  {
   "cell_type": "code",
   "execution_count": 126,
   "metadata": {
    "scrolled": true
   },
   "outputs": [
    {
     "name": "stdout",
     "output_type": "stream",
     "text": [
      "+-------------------+\n",
      "|corr(MEDVAL, LSTAT)|\n",
      "+-------------------+\n",
      "|-0.7376627261740145|\n",
      "+-------------------+\n",
      "\n"
     ]
    }
   ],
   "source": [
    "housing_df.select(corr('MEDVAL','LSTAT')).show()"
   ]
  },
  {
   "cell_type": "code",
   "execution_count": 127,
   "metadata": {},
   "outputs": [],
   "source": [
    "CHAS_indexer = StringIndexer(inputCol = 'CHAS', outputCol = 'CHAS_num').fit(housing_df)\n",
    "housing_df = CHAS_indexer.transform(housing_df) "
   ]
  },
  {
   "cell_type": "code",
   "execution_count": 128,
   "metadata": {},
   "outputs": [
    {
     "name": "stdout",
     "output_type": "stream",
     "text": [
      "+----------------------+\n",
      "|corr(MEDVAL, CHAS_num)|\n",
      "+----------------------+\n",
      "|    0.1752601771902987|\n",
      "+----------------------+\n",
      "\n"
     ]
    }
   ],
   "source": [
    "housing_df.select(corr('MEDVAL','CHAS_num')).show()"
   ]
  },
  {
   "cell_type": "code",
   "execution_count": 129,
   "metadata": {},
   "outputs": [
    {
     "name": "stdout",
     "output_type": "stream",
     "text": [
      "root\n",
      " |-- CRIM: double (nullable = true)\n",
      " |-- ZN: double (nullable = true)\n",
      " |-- INDUS: double (nullable = true)\n",
      " |-- CHAS: string (nullable = true)\n",
      " |-- NOX: double (nullable = true)\n",
      " |-- RM: double (nullable = true)\n",
      " |-- AGE: double (nullable = true)\n",
      " |-- DIS: double (nullable = true)\n",
      " |-- RAD: integer (nullable = true)\n",
      " |-- TAX: integer (nullable = true)\n",
      " |-- PTRATIO: double (nullable = true)\n",
      " |-- LSTAT: double (nullable = true)\n",
      " |-- MEDVAL: double (nullable = true)\n",
      " |-- CHAS_num: double (nullable = false)\n",
      "\n"
     ]
    }
   ],
   "source": [
    "housing_df.printSchema()"
   ]
  },
  {
   "cell_type": "code",
   "execution_count": 130,
   "metadata": {},
   "outputs": [],
   "source": [
    "housing_predict_df = housing_df.select('MEDVAL','LSTAT', 'PTRATIO','TAX', 'RM', 'INDUS')"
   ]
  },
  {
   "cell_type": "code",
   "execution_count": 131,
   "metadata": {},
   "outputs": [
    {
     "name": "stdout",
     "output_type": "stream",
     "text": [
      "root\n",
      " |-- MEDVAL: double (nullable = true)\n",
      " |-- LSTAT: double (nullable = true)\n",
      " |-- PTRATIO: double (nullable = true)\n",
      " |-- TAX: integer (nullable = true)\n",
      " |-- RM: double (nullable = true)\n",
      " |-- INDUS: double (nullable = true)\n",
      "\n"
     ]
    }
   ],
   "source": [
    "housing_predict_df.printSchema()"
   ]
  },
  {
   "cell_type": "markdown",
   "metadata": {},
   "source": [
    "Correlation coefficient values must be closer to +1 or -1 which then indicates they have an impact on the output variable. \n",
    "The columns 'LSTAT', 'PTRATIO','TAX', 'RM', 'INDUS' are useful in predicting the median value as they have a mgnitude greater than 0.45. \n",
    "LSTAT has a negative coefficient meaning increase in Lstat will mark a decrease in MEDVAL column. They have a strong negative correaltion in between them.\n",
    "PTRATIO, INDUS, TAX and MEDVAL have a weak negative correlation.\n",
    "RM and MEDVAL have a strong positive correlation which means increase in RM will increase the MEDVAL. "
   ]
  },
  {
   "cell_type": "code",
   "execution_count": 132,
   "metadata": {},
   "outputs": [
    {
     "name": "stdout",
     "output_type": "stream",
     "text": [
      "+-------+------------------+------------------+------------------+------------------+------------------+------------------+\n",
      "|summary|            MEDVAL|             LSTAT|           PTRATIO|               TAX|                RM|             INDUS|\n",
      "+-------+------------------+------------------+------------------+------------------+------------------+------------------+\n",
      "|  count|               506|               506|               506|               506|               506|               506|\n",
      "|   mean|22.532806324110698|12.653063241106723|18.455533596837967| 408.2371541501976| 6.284634387351787|11.136778656126504|\n",
      "| stddev| 9.197104087379815| 7.141061511348571|2.1649455237144455|168.53711605495903|0.7026171434153232| 6.860352940897589|\n",
      "|    min|               5.0|              1.73|              12.6|               187|             3.561|              0.46|\n",
      "|    max|              50.0|             37.97|              22.0|               711|              8.78|             27.74|\n",
      "+-------+------------------+------------------+------------------+------------------+------------------+------------------+\n",
      "\n"
     ]
    }
   ],
   "source": [
    "housing_predict_df.describe().show()"
   ]
  },
  {
   "cell_type": "code",
   "execution_count": 133,
   "metadata": {},
   "outputs": [
    {
     "name": "stdout",
     "output_type": "stream",
     "text": [
      "+-------+------------------+------------------+------------------+------------------+------------------+------------------+\n",
      "|summary|            MEDVAL|             LSTAT|           PTRATIO|               TAX|                RM|             INDUS|\n",
      "+-------+------------------+------------------+------------------+------------------+------------------+------------------+\n",
      "|  count|               506|               506|               506|               506|               506|               506|\n",
      "|   mean|22.532806324110698|12.653063241106723|18.455533596837967| 408.2371541501976| 6.284634387351787|11.136778656126504|\n",
      "| stddev| 9.197104087379815| 7.141061511348571|2.1649455237144455|168.53711605495903|0.7026171434153232| 6.860352940897589|\n",
      "|    min|               5.0|              1.73|              12.6|               187|             3.561|              0.46|\n",
      "|    max|              50.0|             37.97|              22.0|               711|              8.78|             27.74|\n",
      "+-------+------------------+------------------+------------------+------------------+------------------+------------------+\n",
      "\n"
     ]
    }
   ],
   "source": [
    "DF_statistics = housing_predict_df.describe()\n",
    "DF_statistics.show()"
   ]
  },
  {
   "cell_type": "code",
   "execution_count": 134,
   "metadata": {},
   "outputs": [],
   "source": [
    "from pyspark.sql.functions import round, col"
   ]
  },
  {
   "cell_type": "code",
   "execution_count": 135,
   "metadata": {},
   "outputs": [
    {
     "name": "stdout",
     "output_type": "stream",
     "text": [
      "+-------+----------------+\n",
      "|summary|round(MEDVAL, 2)|\n",
      "+-------+----------------+\n",
      "|  count|           506.0|\n",
      "|   mean|           22.53|\n",
      "| stddev|             9.2|\n",
      "|    min|             5.0|\n",
      "|    max|            50.0|\n",
      "+-------+----------------+\n",
      "\n"
     ]
    }
   ],
   "source": [
    "DF_statistics.select('summary', round(col('MEDVAL'),2)).show()"
   ]
  },
  {
   "cell_type": "code",
   "execution_count": 136,
   "metadata": {},
   "outputs": [
    {
     "name": "stdout",
     "output_type": "stream",
     "text": [
      "+-------+---------------+\n",
      "|summary|round(LSTAT, 2)|\n",
      "+-------+---------------+\n",
      "|  count|          506.0|\n",
      "|   mean|          12.65|\n",
      "| stddev|           7.14|\n",
      "|    min|           1.73|\n",
      "|    max|          37.97|\n",
      "+-------+---------------+\n",
      "\n"
     ]
    }
   ],
   "source": [
    "DF_statistics.select('summary', round(col('LSTAT'),2)).show()"
   ]
  },
  {
   "cell_type": "code",
   "execution_count": 137,
   "metadata": {},
   "outputs": [
    {
     "name": "stdout",
     "output_type": "stream",
     "text": [
      "+-------+-----------------+\n",
      "|summary|round(PTRATIO, 2)|\n",
      "+-------+-----------------+\n",
      "|  count|            506.0|\n",
      "|   mean|            18.46|\n",
      "| stddev|             2.16|\n",
      "|    min|             12.6|\n",
      "|    max|             22.0|\n",
      "+-------+-----------------+\n",
      "\n"
     ]
    }
   ],
   "source": [
    "DF_statistics.select('summary', round(col('PTRATIO'),2)).show()"
   ]
  },
  {
   "cell_type": "code",
   "execution_count": 138,
   "metadata": {},
   "outputs": [
    {
     "name": "stdout",
     "output_type": "stream",
     "text": [
      "+-------+-------------+\n",
      "|summary|round(TAX, 2)|\n",
      "+-------+-------------+\n",
      "|  count|        506.0|\n",
      "|   mean|       408.24|\n",
      "| stddev|       168.54|\n",
      "|    min|        187.0|\n",
      "|    max|        711.0|\n",
      "+-------+-------------+\n",
      "\n"
     ]
    }
   ],
   "source": [
    "DF_statistics.select('summary', round(col('TAX'),2)).show()"
   ]
  },
  {
   "cell_type": "code",
   "execution_count": 139,
   "metadata": {},
   "outputs": [
    {
     "name": "stdout",
     "output_type": "stream",
     "text": [
      "+-------+------------+\n",
      "|summary|round(RM, 2)|\n",
      "+-------+------------+\n",
      "|  count|       506.0|\n",
      "|   mean|        6.28|\n",
      "| stddev|         0.7|\n",
      "|    min|        3.56|\n",
      "|    max|        8.78|\n",
      "+-------+------------+\n",
      "\n"
     ]
    }
   ],
   "source": [
    "DF_statistics.select('summary', round(col('RM'),2)).show()"
   ]
  },
  {
   "cell_type": "code",
   "execution_count": 140,
   "metadata": {},
   "outputs": [
    {
     "name": "stdout",
     "output_type": "stream",
     "text": [
      "+-------+---------------+\n",
      "|summary|round(INDUS, 2)|\n",
      "+-------+---------------+\n",
      "|  count|          506.0|\n",
      "|   mean|          11.14|\n",
      "| stddev|           6.86|\n",
      "|    min|           0.46|\n",
      "|    max|          27.74|\n",
      "+-------+---------------+\n",
      "\n"
     ]
    }
   ],
   "source": [
    "DF_statistics.select('summary', round(col('INDUS'),2)).show()"
   ]
  },
  {
   "cell_type": "markdown",
   "metadata": {},
   "source": [
    "Rounded values for the descriptive statistics for the relevant attributes"
   ]
  },
  {
   "cell_type": "code",
   "execution_count": 141,
   "metadata": {},
   "outputs": [],
   "source": [
    "from pyspark.ml.linalg import Vector\n",
    "from pyspark.ml.feature import VectorAssembler"
   ]
  },
  {
   "cell_type": "code",
   "execution_count": 142,
   "metadata": {},
   "outputs": [],
   "source": [
    "vec_assemble = VectorAssembler(inputCols = ['LSTAT','PTRATIO','TAX','RM','INDUS'], outputCol = 'features')"
   ]
  },
  {
   "cell_type": "code",
   "execution_count": 143,
   "metadata": {},
   "outputs": [],
   "source": [
    "housing_df_features = vec_assemble.transform(housing_predict_df)"
   ]
  },
  {
   "cell_type": "code",
   "execution_count": 144,
   "metadata": {},
   "outputs": [
    {
     "name": "stdout",
     "output_type": "stream",
     "text": [
      "root\n",
      " |-- MEDVAL: double (nullable = true)\n",
      " |-- LSTAT: double (nullable = true)\n",
      " |-- PTRATIO: double (nullable = true)\n",
      " |-- TAX: integer (nullable = true)\n",
      " |-- RM: double (nullable = true)\n",
      " |-- INDUS: double (nullable = true)\n",
      " |-- features: vector (nullable = true)\n",
      "\n"
     ]
    }
   ],
   "source": [
    "housing_df_features.printSchema()"
   ]
  },
  {
   "cell_type": "code",
   "execution_count": 145,
   "metadata": {},
   "outputs": [
    {
     "name": "stdout",
     "output_type": "stream",
     "text": [
      "506 7\n"
     ]
    }
   ],
   "source": [
    "print(housing_df_features.count(),len(housing_df_features.columns))"
   ]
  },
  {
   "cell_type": "code",
   "execution_count": 146,
   "metadata": {},
   "outputs": [],
   "source": [
    "housing_df_model = housing_df_features.select('MEDVAL', 'features')"
   ]
  },
  {
   "cell_type": "code",
   "execution_count": 147,
   "metadata": {},
   "outputs": [
    {
     "name": "stdout",
     "output_type": "stream",
     "text": [
      "506 2\n"
     ]
    }
   ],
   "source": [
    "print(housing_df_model.count(),len(housing_df_model.columns))"
   ]
  },
  {
   "cell_type": "code",
   "execution_count": 148,
   "metadata": {},
   "outputs": [
    {
     "name": "stdout",
     "output_type": "stream",
     "text": [
      "root\n",
      " |-- MEDVAL: double (nullable = true)\n",
      " |-- features: vector (nullable = true)\n",
      "\n"
     ]
    }
   ],
   "source": [
    "housing_df_model.printSchema()"
   ]
  },
  {
   "cell_type": "code",
   "execution_count": 149,
   "metadata": {},
   "outputs": [
    {
     "name": "stdout",
     "output_type": "stream",
     "text": [
      "+------+----------------------------+\n",
      "|MEDVAL|features                    |\n",
      "+------+----------------------------+\n",
      "|24.0  |[4.98,15.3,296.0,6.575,2.31]|\n",
      "|21.6  |[9.14,17.8,242.0,6.421,7.07]|\n",
      "|34.7  |[4.03,17.8,242.0,7.185,7.07]|\n",
      "|33.4  |[2.94,18.7,222.0,6.998,2.18]|\n",
      "|36.2  |[5.33,18.7,222.0,7.147,2.18]|\n",
      "+------+----------------------------+\n",
      "only showing top 5 rows\n",
      "\n"
     ]
    }
   ],
   "source": [
    "housing_df_model.show(5,False)"
   ]
  },
  {
   "cell_type": "markdown",
   "metadata": {},
   "source": [
    "Here the feature variable comtains all the input variables combined into a single vector variable."
   ]
  },
  {
   "cell_type": "markdown",
   "metadata": {},
   "source": [
    "### Training the regression model -- 80% of the data will be used to train the model and the remaining 20% to evaluate the model."
   ]
  },
  {
   "cell_type": "code",
   "execution_count": 150,
   "metadata": {},
   "outputs": [],
   "source": [
    "train_df, test_df = housing_df_model.randomSplit([0.80, 0.20])"
   ]
  },
  {
   "cell_type": "code",
   "execution_count": 151,
   "metadata": {},
   "outputs": [
    {
     "name": "stdout",
     "output_type": "stream",
     "text": [
      "413 2\n"
     ]
    }
   ],
   "source": [
    "print(train_df.count(), len(train_df.columns))"
   ]
  },
  {
   "cell_type": "code",
   "execution_count": 152,
   "metadata": {},
   "outputs": [
    {
     "name": "stdout",
     "output_type": "stream",
     "text": [
      "93 2\n"
     ]
    }
   ],
   "source": [
    "print(test_df.count(), len(test_df.columns))"
   ]
  },
  {
   "cell_type": "code",
   "execution_count": 153,
   "metadata": {},
   "outputs": [
    {
     "name": "stdout",
     "output_type": "stream",
     "text": [
      "+------+------------------------------+\n",
      "|MEDVAL|features                      |\n",
      "+------+------------------------------+\n",
      "|5.0   |[30.59,20.2,666.0,5.453,18.1] |\n",
      "|6.3   |[29.97,20.2,666.0,5.852,18.1] |\n",
      "|7.0   |[23.97,20.1,711.0,5.414,27.74]|\n",
      "|7.0   |[36.98,20.2,666.0,4.519,18.1] |\n",
      "|7.2   |[20.32,20.2,666.0,6.343,18.1] |\n",
      "+------+------------------------------+\n",
      "only showing top 5 rows\n",
      "\n"
     ]
    }
   ],
   "source": [
    "train_df.show(5, False)"
   ]
  },
  {
   "cell_type": "code",
   "execution_count": 154,
   "metadata": {},
   "outputs": [
    {
     "name": "stdout",
     "output_type": "stream",
     "text": [
      "+------+-----------------------------+\n",
      "|MEDVAL|features                     |\n",
      "+------+-----------------------------+\n",
      "|5.0   |[22.98,20.2,666.0,5.683,18.1]|\n",
      "|5.6   |[26.77,20.2,666.0,5.987,18.1]|\n",
      "|10.4  |[26.64,20.2,666.0,5.304,18.1]|\n",
      "|10.9  |[14.52,20.2,666.0,6.202,18.1]|\n",
      "|10.9  |[21.08,20.2,666.0,6.545,18.1]|\n",
      "+------+-----------------------------+\n",
      "only showing top 5 rows\n",
      "\n"
     ]
    }
   ],
   "source": [
    "test_df.show(5, False)"
   ]
  },
  {
   "cell_type": "code",
   "execution_count": 155,
   "metadata": {},
   "outputs": [],
   "source": [
    "from pyspark.ml.regression import LinearRegression"
   ]
  },
  {
   "cell_type": "code",
   "execution_count": 156,
   "metadata": {},
   "outputs": [],
   "source": [
    "lin_model = LinearRegression(labelCol = 'MEDVAL').fit(train_df)"
   ]
  },
  {
   "cell_type": "code",
   "execution_count": 157,
   "metadata": {},
   "outputs": [
    {
     "name": "stdout",
     "output_type": "stream",
     "text": [
      "23.58871278865642\n"
     ]
    }
   ],
   "source": [
    "print(lin_model.intercept)"
   ]
  },
  {
   "cell_type": "code",
   "execution_count": 158,
   "metadata": {},
   "outputs": [
    {
     "name": "stdout",
     "output_type": "stream",
     "text": [
      "[-0.5921080681324046,-0.8773195845711795,-0.0026603001575036807,3.70572478743791,0.03370495247596223]\n"
     ]
    }
   ],
   "source": [
    "print(lin_model.coefficients)"
   ]
  },
  {
   "cell_type": "markdown",
   "metadata": {},
   "source": [
    "Coefficient of LSTAT     : -0.5935931763329011\n",
    "Coefficient of PTRATIO   : -0.9244809589377402\n",
    "Coefficient of TAX       : -0.0019753625410759835\n",
    "Coefficient of RM        : 4.252680924351072\n",
    "Coefficient of INDUS     : 0.03555874125405691\n",
    "\n",
    "In the linear equation y = b0 + b1x1 + b2x2 + b3x3 + b4x4 +b5x5 , each of the x coefficients represent the above coefficient values.\n",
    "\n",
    "In regression with multiple independent variables, the coefficients tells us how much the dependent variable(s) are expected to increase when that independent variable increases by one, holding all the other independent variables constant. \n",
    "\n",
    "So, when LSTAT increase by one, MEDVAL decreases by '0.5921080681324046' holding all other variables constants.\n",
    "Similarly, for the positive coefficient 'RM'; when it increases by a unit, MEDVAL will increase by '4.252680924351072' times keeping all other variables constants.\n",
    "And when the TAX increases by one, MEDVAL is supposed to decrease by '-0.0019753625410759835' keeping all other variables constant.\n",
    "When INDUS increases by one, MEDVAL is supposed to be increased by '0.03555874125405691' keeping all other variables constant."
   ]
  },
  {
   "cell_type": "code",
   "execution_count": 166,
   "metadata": {},
   "outputs": [],
   "source": [
    "training_predictions = lin_model.evaluate(train_df)"
   ]
  },
  {
   "cell_type": "code",
   "execution_count": 167,
   "metadata": {},
   "outputs": [
    {
     "name": "stdout",
     "output_type": "stream",
     "text": [
      "0.6534480200897385\n"
     ]
    }
   ],
   "source": [
    "print(training_predictions.r2)"
   ]
  },
  {
   "cell_type": "code",
   "execution_count": 168,
   "metadata": {},
   "outputs": [
    {
     "name": "stdout",
     "output_type": "stream",
     "text": [
      "5.237472000352082\n"
     ]
    }
   ],
   "source": [
    "print(training_predictions.rootMeanSquaredError)"
   ]
  },
  {
   "cell_type": "code",
   "execution_count": 169,
   "metadata": {},
   "outputs": [
    {
     "name": "stdout",
     "output_type": "stream",
     "text": [
      "27.43111295447204\n"
     ]
    }
   ],
   "source": [
    "print(training_predictions.meanSquaredError)"
   ]
  },
  {
   "cell_type": "markdown",
   "metadata": {},
   "source": [
    "R-Square value implies it has a better prediction power.\n"
   ]
  },
  {
   "cell_type": "code",
   "execution_count": 163,
   "metadata": {},
   "outputs": [],
   "source": [
    "test_predictions = lin_model.evaluate(test_df)"
   ]
  },
  {
   "cell_type": "code",
   "execution_count": 164,
   "metadata": {},
   "outputs": [
    {
     "name": "stdout",
     "output_type": "stream",
     "text": [
      "0.7511148715928186\n"
     ]
    }
   ],
   "source": [
    "print(test_predictions.r2)"
   ]
  },
  {
   "cell_type": "code",
   "execution_count": 165,
   "metadata": {},
   "outputs": [
    {
     "name": "stdout",
     "output_type": "stream",
     "text": [
      "5.1490764501604716\n"
     ]
    }
   ],
   "source": [
    "print(test_predictions.rootMeanSquaredError)"
   ]
  },
  {
   "cell_type": "code",
   "execution_count": 170,
   "metadata": {},
   "outputs": [
    {
     "name": "stdout",
     "output_type": "stream",
     "text": [
      "26.512988289597164\n"
     ]
    }
   ],
   "source": [
    "print(test_predictions.meanSquaredError)"
   ]
  },
  {
   "cell_type": "markdown",
   "metadata": {},
   "source": [
    "R-Square value implies it has better prediction power.\n",
    "RMSE of test model is lesser/almost equal to the trained model which implies the model a good fit."
   ]
  }
 ],
 "metadata": {
  "kernelspec": {
   "display_name": "Python 3",
   "language": "python",
   "name": "python3"
  },
  "language_info": {
   "codemirror_mode": {
    "name": "ipython",
    "version": 3
   },
   "file_extension": ".py",
   "mimetype": "text/x-python",
   "name": "python",
   "nbconvert_exporter": "python",
   "pygments_lexer": "ipython3",
   "version": "3.7.6"
  }
 },
 "nbformat": 4,
 "nbformat_minor": 2
}
