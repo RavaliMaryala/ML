{
 "cells": [
  {
   "cell_type": "markdown",
   "metadata": {},
   "source": [
    "## Clear Statement of the problem to solve."
   ]
  },
  {
   "cell_type": "markdown",
   "metadata": {},
   "source": [
    "Using the text data provided in descritption of wine dataset, we want to see if we can predict the wine's country of origin. Meaning, here it is going to be if its a US made or Non-US made wine based on reviews written by wine critics."
   ]
  },
  {
   "cell_type": "markdown",
   "metadata": {},
   "source": [
    "## Statement/Comment on the data collection (in terms of what is needed) and scope. "
   ]
  },
  {
   "cell_type": "markdown",
   "metadata": {},
   "source": [
    "Using PySpark and ML libraries functionalities like udf, StopWords Remover, Tokenizer, Count vectorizer, Hashing, TF-IDF we are going to focus on knowing the dataset and its contents, tokenisation, cleaning the data/removing stopwords and converting any categorical/string data into numerical form. \n",
    "\n",
    "For the classification algorithm, the labeled data should be numerical, so we need to convert any categorical/string data into numerical datatype. We use couunt vectorisation/hashing TF-IDF to do this."
   ]
  },
  {
   "cell_type": "markdown",
   "metadata": {},
   "source": [
    "## Preliminary decision and justification about the ML algorithm we will use. "
   ]
  },
  {
   "cell_type": "markdown",
   "metadata": {},
   "source": [
    "The algorithm we're about to use is \"Classification algorithm\". We have a dataset of 150935 rows and 2 columns, constituting labeled data.  \n",
    "\n",
    "Classification is the problem of identifying to which of a set of categories (sub-populations) a new observation belongs, on the basis of a training set of data containing observations (or instances) whose category membership is known. \n",
    "It is the process of predicting the class of given data points. Classes are sometimes called as targets/ labels or categories.\n",
    "\n",
    "In supervised learning, we learn from historical dataset where answer is already known to predict future data points\n",
    "\n",
    "Classification is applied to categorical objects. Here we're gonna do binary classification. There are two classes in the data.. US/Non-US.\n",
    "\n",
    "Since we're going to identify a particular wine belongs to which country's origin, it is wise to use classification algorithm on the given dataset(having rows more than 100K) and origin being categorized into US/Non-US.\n",
    "\n"
   ]
  },
  {
   "cell_type": "markdown",
   "metadata": {},
   "source": [
    "## Statement/comments on data preparation and clean up. Steps to get data ready for the ML algorithm of our choice."
   ]
  },
  {
   "cell_type": "markdown",
   "metadata": {},
   "source": [
    "In data preparation, we load the dataset from the local drive of our system. We check if there are any empty fields and try to get rid of them/fill them with appropriate values. \n",
    "\n",
    "First, we check to see if there are any empty cells in the data and focus on removing them. We are only going to use the rows from the dataset having origin as 'US' or 'Non-US' to predict the wine's origin. Then we're going to remove any punctuations from the reviews. The prediction is all about checking wine's country of origin based on reviews provided in the description column from the dataset using the above functionalities.\n",
    "\n",
    "Then we convert the reviews into tokens by : remove punctuations, use tokeniser to break sentences into tokens, stopwords remover to remove unneccessary words for predictions, then we do vectorisation before we get the model ready for logistic regression. We run the model using training dataset and test the model on test dataset by splitting the dataset into 80-20 ratio.\n",
    "\n",
    "By splitting the dataset into training and test datasets and using evaluation metrics like confusion matrix, precision, recall and F1, we compare the training and test dataset metrics and conclude if the model is working well or not.\n",
    "\n",
    "\n"
   ]
  },
  {
   "cell_type": "markdown",
   "metadata": {},
   "source": [
    "## Perform data prep and clean-up. "
   ]
  },
  {
   "cell_type": "code",
   "execution_count": 74,
   "metadata": {},
   "outputs": [],
   "source": [
    "#create spark session\n",
    "from pyspark.sql import SparkSession\n",
    "spark = SparkSession.builder.appName('nlp_wine').getOrCreate()"
   ]
  },
  {
   "cell_type": "code",
   "execution_count": 75,
   "metadata": {},
   "outputs": [],
   "source": [
    "#read dataset\n",
    "#change the drive\n",
    "wine_df = spark.read.csv('C:/Users/Owner/Documents/Machine Learning/ShortWineReviews.csv', inferSchema=True, header=True,sep=',')"
   ]
  },
  {
   "cell_type": "code",
   "execution_count": 76,
   "metadata": {},
   "outputs": [
    {
     "name": "stdout",
     "output_type": "stream",
     "text": [
      "root\n",
      " |-- Origin: string (nullable = true)\n",
      " |-- Description: string (nullable = true)\n",
      "\n"
     ]
    }
   ],
   "source": [
    "#know the columns and their datatypes\n",
    "wine_df.printSchema()"
   ]
  },
  {
   "cell_type": "code",
   "execution_count": 77,
   "metadata": {},
   "outputs": [
    {
     "data": {
      "text/plain": [
       "4000"
      ]
     },
     "execution_count": 77,
     "metadata": {},
     "output_type": "execute_result"
    }
   ],
   "source": [
    "#count the number of rows\n",
    "wine_df.count()"
   ]
  },
  {
   "cell_type": "code",
   "execution_count": 78,
   "metadata": {},
   "outputs": [
    {
     "name": "stdout",
     "output_type": "stream",
     "text": [
      "4000 2\n"
     ]
    }
   ],
   "source": [
    "#check total number of rows and columns\n",
    "print(wine_df.count(),len(wine_df.columns))"
   ]
  },
  {
   "cell_type": "code",
   "execution_count": 79,
   "metadata": {},
   "outputs": [],
   "source": [
    "from pyspark.sql.functions import rand "
   ]
  },
  {
   "cell_type": "code",
   "execution_count": 80,
   "metadata": {
    "scrolled": true
   },
   "outputs": [
    {
     "name": "stdout",
     "output_type": "stream",
     "text": [
      "+------+--------------------------------------------------------------------------------------------------------------------------------------------------------------------------------------------------------------------------------------------------------------------------------------------+\n",
      "|Origin|Description                                                                                                                                                                                                                                                                                 |\n",
      "+------+--------------------------------------------------------------------------------------------------------------------------------------------------------------------------------------------------------------------------------------------------------------------------------------------+\n",
      "|Non-US|A ripe and rich wine, this is full of jammy red fruits. The structure is well integrated into the fruits, giving a smooth, ripe wine that's developing attractively. With a juicy, fresh aftertaste, it is ready to drink, although it will be better from 2017.                            |\n",
      "|US    |Inviting aromas of baked blueberries are leveled by crushed asphalt and dried herbs on the refined nose of this bottling. Stewed strawberry and red plum flavors are elegantly cut by more crushed stone, dried spearmint and a touch of sweet tobacco, all held together by grippy tannins.|\n",
      "+------+--------------------------------------------------------------------------------------------------------------------------------------------------------------------------------------------------------------------------------------------------------------------------------------------+\n",
      "only showing top 2 rows\n",
      "\n"
     ]
    }
   ],
   "source": [
    "#select random rows from the dataset to see how they're.. using rand function\n",
    "wine_df.orderBy(rand()).show(2,False)"
   ]
  },
  {
   "cell_type": "code",
   "execution_count": 81,
   "metadata": {},
   "outputs": [
    {
     "name": "stdout",
     "output_type": "stream",
     "text": [
      "Origin \t with null values:  0\n",
      "Description \t with null values:  0\n"
     ]
    }
   ],
   "source": [
    "#check if we have any null values in the dataset\n",
    "for col in wine_df.columns:\n",
    "    print(col,'\\t', 'with null values: ', wine_df.filter(wine_df[col].isNull()).count())"
   ]
  },
  {
   "cell_type": "code",
   "execution_count": 82,
   "metadata": {},
   "outputs": [],
   "source": [
    "#As origin column has values other than US and Non-US, we are going to filter and make a fresh dataset using filter \n",
    "wine_df = wine_df.filter(((wine_df.Origin =='US') | (wine_df.Origin =='Non-US')))"
   ]
  },
  {
   "cell_type": "code",
   "execution_count": 83,
   "metadata": {},
   "outputs": [
    {
     "data": {
      "text/plain": [
       "4000"
      ]
     },
     "execution_count": 83,
     "metadata": {},
     "output_type": "execute_result"
    }
   ],
   "source": [
    "#check if they've been filtered\n",
    "wine_df.count()"
   ]
  },
  {
   "cell_type": "code",
   "execution_count": 84,
   "metadata": {},
   "outputs": [
    {
     "name": "stdout",
     "output_type": "stream",
     "text": [
      "+------+-----+\n",
      "|Origin|count|\n",
      "+------+-----+\n",
      "|Non-US| 2000|\n",
      "|    US| 2000|\n",
      "+------+-----+\n",
      "\n"
     ]
    }
   ],
   "source": [
    "#Using groupby function, check the counts of categories US/Non-US\n",
    "wine_df.groupBy('Origin').count().show()"
   ]
  },
  {
   "cell_type": "markdown",
   "metadata": {},
   "source": [
    "We have a balanced data"
   ]
  },
  {
   "cell_type": "markdown",
   "metadata": {},
   "source": [
    "### <b> Comment on required data transformation needed to get the data ready for input to the ML algorithm of your choice. </b>"
   ]
  },
  {
   "cell_type": "markdown",
   "metadata": {},
   "source": [
    "Since we have string data types in the column Origin, we convert it into float type using the udf."
   ]
  },
  {
   "cell_type": "code",
   "execution_count": 85,
   "metadata": {},
   "outputs": [],
   "source": [
    "from pyspark.sql.functions import udf\n",
    "from pyspark.sql.types import StringType"
   ]
  },
  {
   "cell_type": "code",
   "execution_count": 86,
   "metadata": {},
   "outputs": [],
   "source": [
    "#assigning values to origin column using if-else block\n",
    "Origin_udf = udf(lambda Origin: 0.0 if Origin == 'US' else 1.0, StringType())"
   ]
  },
  {
   "cell_type": "code",
   "execution_count": 87,
   "metadata": {},
   "outputs": [
    {
     "name": "stdout",
     "output_type": "stream",
     "text": [
      "+------+--------------------+-----+\n",
      "|Origin|         Description|Label|\n",
      "+------+--------------------+-----+\n",
      "|    US|This tremendous 1...|  0.0|\n",
      "|    US|Mac Watson honors...|  0.0|\n",
      "+------+--------------------+-----+\n",
      "only showing top 2 rows\n",
      "\n"
     ]
    }
   ],
   "source": [
    "wine_df.withColumn('Label', Origin_udf(wine_df.Origin)).show(2)"
   ]
  },
  {
   "cell_type": "code",
   "execution_count": 88,
   "metadata": {},
   "outputs": [],
   "source": [
    "wine_df = wine_df.withColumn('Label', Origin_udf(wine_df.Origin))"
   ]
  },
  {
   "cell_type": "code",
   "execution_count": 89,
   "metadata": {},
   "outputs": [
    {
     "name": "stdout",
     "output_type": "stream",
     "text": [
      "root\n",
      " |-- Origin: string (nullable = true)\n",
      " |-- Description: string (nullable = true)\n",
      " |-- Label: string (nullable = true)\n",
      "\n"
     ]
    }
   ],
   "source": [
    "wine_df.printSchema()"
   ]
  },
  {
   "cell_type": "code",
   "execution_count": 90,
   "metadata": {},
   "outputs": [
    {
     "name": "stdout",
     "output_type": "stream",
     "text": [
      "+------+--------------------------------------------------------------------------------------------------------------------------------------------------------------------------------------------------------------------------------------------------------------------------------------------------------------------------------------------------------------------------------------------------+-----+\n",
      "|Origin|Description                                                                                                                                                                                                                                                                                                                                                                                       |Label|\n",
      "+------+--------------------------------------------------------------------------------------------------------------------------------------------------------------------------------------------------------------------------------------------------------------------------------------------------------------------------------------------------------------------------------------------------+-----+\n",
      "|US    |This tremendous 100% varietal wine hails from Oakville and was aged over three years in oak. Juicy red-cherry fruit and a compelling hint of caramel greet the palate, framed by elegant, fine tannins and a subtle minty tone in the background. Balanced and rewarding from start to finish, it has years ahead of it to develop further nuance. Enjoy 2022–2030.                               |0.0  |\n",
      "|US    |Mac Watson honors the memory of a wine once made by his mother in this tremendously delicious, balanced and complex botrytised white. Dark gold in color, it layers toasted hazelnut, pear compote and orange peel flavors, reveling in the succulence of its 122 g/L of residual sugar.                                                                                                          |0.0  |\n",
      "|US    |This spent 20 months in 30% new French oak, and incorporates fruit from Ponzi's Aurora, Abetina and Madrona vineyards, among others. Aromatic, dense and toasty, it deftly blends aromas and flavors of toast, cigar box, blackberry, black cherry, coffee and graphite. Tannins are polished to a fine sheen, and frame a finish loaded with dark chocolate and espresso. Drink now through 2032.|0.0  |\n",
      "+------+--------------------------------------------------------------------------------------------------------------------------------------------------------------------------------------------------------------------------------------------------------------------------------------------------------------------------------------------------------------------------------------------------+-----+\n",
      "only showing top 3 rows\n",
      "\n"
     ]
    }
   ],
   "source": [
    "wine_df.show(3, False)"
   ]
  },
  {
   "cell_type": "code",
   "execution_count": 91,
   "metadata": {},
   "outputs": [
    {
     "name": "stdout",
     "output_type": "stream",
     "text": [
      "+-----+--------------------------------------------------------------------------------------------------------------------------------------------------------------------------------------------------------------------------------------------------------------------------------------------------------------------------------------------------------------------------------------------------+\n",
      "|Label|Description                                                                                                                                                                                                                                                                                                                                                                                       |\n",
      "+-----+--------------------------------------------------------------------------------------------------------------------------------------------------------------------------------------------------------------------------------------------------------------------------------------------------------------------------------------------------------------------------------------------------+\n",
      "|0.0  |This tremendous 100% varietal wine hails from Oakville and was aged over three years in oak. Juicy red-cherry fruit and a compelling hint of caramel greet the palate, framed by elegant, fine tannins and a subtle minty tone in the background. Balanced and rewarding from start to finish, it has years ahead of it to develop further nuance. Enjoy 2022–2030.                               |\n",
      "|0.0  |Mac Watson honors the memory of a wine once made by his mother in this tremendously delicious, balanced and complex botrytised white. Dark gold in color, it layers toasted hazelnut, pear compote and orange peel flavors, reveling in the succulence of its 122 g/L of residual sugar.                                                                                                          |\n",
      "|0.0  |This spent 20 months in 30% new French oak, and incorporates fruit from Ponzi's Aurora, Abetina and Madrona vineyards, among others. Aromatic, dense and toasty, it deftly blends aromas and flavors of toast, cigar box, blackberry, black cherry, coffee and graphite. Tannins are polished to a fine sheen, and frame a finish loaded with dark chocolate and espresso. Drink now through 2032.|\n",
      "|0.0  |This re-named vineyard was formerly bottled as deLancellotti. You'll find striking minerality underscoring chunky black fruits. Accents of citrus and graphite comingle, with exceptional midpalate concentration. This is a wine to cellar, though it is already quite enjoyable. Drink now through 2030.                                                                                        |\n",
      "|0.0  |The producer sources from two blocks of the vineyard for this wine—one at a high elevation, which contributes bright acidity. Crunchy cranberry, pomegranate and orange peel flavors surround silky, succulent layers of texture that present as fleshy fruit. That delicately lush flavor has considerable length.                                                                               |\n",
      "+-----+--------------------------------------------------------------------------------------------------------------------------------------------------------------------------------------------------------------------------------------------------------------------------------------------------------------------------------------------------------------------------------------------------+\n",
      "only showing top 5 rows\n",
      "\n"
     ]
    }
   ],
   "source": [
    "#Making a new data frame out ofwine_df by selecting onyl the requried columns\n",
    "wine_df_ready = wine_df.select('Label', 'Description')\n",
    "wine_df_ready.show(5, False)"
   ]
  },
  {
   "cell_type": "code",
   "execution_count": 92,
   "metadata": {},
   "outputs": [
    {
     "name": "stdout",
     "output_type": "stream",
     "text": [
      "root\n",
      " |-- Label: string (nullable = true)\n",
      " |-- Description: string (nullable = true)\n",
      "\n"
     ]
    }
   ],
   "source": [
    "wine_df_ready.printSchema()"
   ]
  },
  {
   "cell_type": "code",
   "execution_count": 93,
   "metadata": {},
   "outputs": [],
   "source": [
    "#As we can see, Label is now a string type, we cast it into float\n",
    "wine_df_ready = wine_df_ready.withColumn(\"Label\", wine_df_ready.Label.cast('float'))"
   ]
  },
  {
   "cell_type": "code",
   "execution_count": 94,
   "metadata": {},
   "outputs": [
    {
     "name": "stdout",
     "output_type": "stream",
     "text": [
      "root\n",
      " |-- Label: float (nullable = true)\n",
      " |-- Description: string (nullable = true)\n",
      "\n"
     ]
    }
   ],
   "source": [
    "wine_df_ready.printSchema()"
   ]
  },
  {
   "cell_type": "code",
   "execution_count": 95,
   "metadata": {},
   "outputs": [
    {
     "name": "stdout",
     "output_type": "stream",
     "text": [
      "+-----+-----+\n",
      "|Label|count|\n",
      "+-----+-----+\n",
      "|  1.0| 2000|\n",
      "|  0.0| 2000|\n",
      "+-----+-----+\n",
      "\n"
     ]
    }
   ],
   "source": [
    "wine_df_ready.groupby('Label').count().show()"
   ]
  },
  {
   "cell_type": "markdown",
   "metadata": {},
   "source": [
    "#### 7.Required data transformations\n",
    "*Hence we converted string datatype of Label column into float type here*"
   ]
  },
  {
   "cell_type": "code",
   "execution_count": 96,
   "metadata": {},
   "outputs": [
    {
     "name": "stdout",
     "output_type": "stream",
     "text": [
      "+-----+------------------------------------------------------------------------------------------------------------------------------------------------------------------------------------------------------------------------------------------------------------------------------------------+\n",
      "|Label|Description                                                                                                                                                                                                                                                                               |\n",
      "+-----+------------------------------------------------------------------------------------------------------------------------------------------------------------------------------------------------------------------------------------------------------------------------------------------+\n",
      "|0.0  |Fresh-squeezed apple juice, grapefruit spritzer and nearly sweet cherry aromas sit atop minerality on the nose of this blend of 46% Viognier, 19% Verdelho, 19% Vermentino and 16% Sauvignon Blanc. There's a lot of tart acidity, with a lingering apple flavor.                         |\n",
      "|0.0  |This quite tart, young and spicy red pulls sharp and puckery cranberry fruit into focus. It's best enjoyed chilled, and would be a fine option for the base of a wine punch.                                                                                                              |\n",
      "|1.0  |The nose is initially rather closed but eventually reveals baked earth, leather, game and ripe black fruit. The taut, tense palate offers dried black cherry, toasted oak, mocha and vanilla alongside grainy tannins.                                                                    |\n",
      "|1.0  |Firmly tannic and dense, this dry wine is dedicated to the winemakers at Vidigal, the authors in the name of the wine. It has berry fruits under its dark texture, promising more fruit in the next several years. There is a show of wood aging as well as acidity at the end.  Screwcap.|\n",
      "|1.0  |Targeted aromas of citrus, apple, grass and minerals precede a lemony laser-sharp palate that sweats the insides of one's cheeks with battery level acidity. Chiseled flavors of lemon and green apple finish long, pure and persistent.                                                  |\n",
      "+-----+------------------------------------------------------------------------------------------------------------------------------------------------------------------------------------------------------------------------------------------------------------------------------------------+\n",
      "only showing top 5 rows\n",
      "\n"
     ]
    }
   ],
   "source": [
    "wine_df_ready.orderBy(rand()).show(5,False)"
   ]
  },
  {
   "cell_type": "markdown",
   "metadata": {},
   "source": [
    "The data is not clean.. there are many punctuations which are unneccessary. When we tokenize its gonna convert it to a word. Sometimes lengths of sentences also differ.\n",
    "We're gonna have to remove punctuations."
   ]
  },
  {
   "cell_type": "markdown",
   "metadata": {},
   "source": [
    "## <b> Conduct Explanatory data analysis (EDA) </b>"
   ]
  },
  {
   "cell_type": "markdown",
   "metadata": {},
   "source": [
    "<U>*Again looking at data to make sure we haven't lost any during transformation*</U>"
   ]
  },
  {
   "cell_type": "code",
   "execution_count": 97,
   "metadata": {},
   "outputs": [
    {
     "name": "stdout",
     "output_type": "stream",
     "text": [
      "+-----+-----+\n",
      "|Label|count|\n",
      "+-----+-----+\n",
      "|  1.0| 2000|\n",
      "|  0.0| 2000|\n",
      "+-----+-----+\n",
      "\n"
     ]
    }
   ],
   "source": [
    "wine_df_ready.groupBy('Label').count().show()"
   ]
  },
  {
   "cell_type": "markdown",
   "metadata": {},
   "source": [
    "We can observe that we have balanced dataset.. equal number of reviews for labels 1 and 0."
   ]
  },
  {
   "cell_type": "code",
   "execution_count": 98,
   "metadata": {},
   "outputs": [],
   "source": [
    "# Add length to the dataframe\n",
    "from pyspark.sql.functions import length"
   ]
  },
  {
   "cell_type": "code",
   "execution_count": 99,
   "metadata": {},
   "outputs": [],
   "source": [
    "wine_df_ready = wine_df_ready.withColumn('length',length(wine_df_ready['Description']))"
   ]
  },
  {
   "cell_type": "code",
   "execution_count": 100,
   "metadata": {},
   "outputs": [
    {
     "name": "stdout",
     "output_type": "stream",
     "text": [
      "+-----+------------------------------------------------------------------------------------------------------------------------------------------------------------------------------------------------------------------------------------------------------------------------------------------------------------------------------------------------------------------------------------------------------------------------------------------------------------------------------------------------------------------------------------+------+\n",
      "|Label|Description                                                                                                                                                                                                                                                                                                                                                                                                                                                                                                                         |length|\n",
      "+-----+------------------------------------------------------------------------------------------------------------------------------------------------------------------------------------------------------------------------------------------------------------------------------------------------------------------------------------------------------------------------------------------------------------------------------------------------------------------------------------------------------------------------------------+------+\n",
      "|0.0  |This white combines 48% Roussanne with 35% Marsanne and 17% Viognier to creamy, tropical effect, its balance between ripe melon and pear fruitiness and spiced acidity well woven. From one of the few sources of some of these grapes in the Russian River Valley, this Rhône-inspired wine is ready to pair with lobster or a roast turkey dinner.                                                                                                                                                                                |340   |\n",
      "|1.0  |Aromas of red berry marinated in spirits, sun baked earth, game and a hint of cured meat come together on this. The tightly wound palate offers raw red berry, grilled sage, mint, clove and anise alongside bracing tannins. Give it a few more years for the tannins to unwind, then drink sooner rather later.                                                                                                                                                                                                                   |305   |\n",
      "|0.0  |Winemaker Nick Elliott taps into the biodynamic vineyard planted by Syrah legend Bob Lindquist to deliver this rich bottling. It's full of roasted black fruit aromasl, with nori, soy and even organ meat touches on the nose. Peppery spice and charred beef flavors accent the lavish palate, while thick tannins frame ripe black-currant flavors on a bed of unwavering acidity.                                                                                                                                               |373   |\n",
      "|1.0  |There is something heady about this: a hint of chamomile tincture and pure lemon zest. The palate cuts in with uncompromising purity and zestiness—this really wants to showcase pure stone and tart citrus. There are glimpses, however, of plump ripe mirabelle plums and a touch of dried pear and quince. Nonetheless, this is governed by stern tanginess and thus is for real adults only. This is dry, slender and shows absolute focus. A celebration of stone and Riesling. Don't drink this now but wait: Drink 2020–2035.|516   |\n",
      "|1.0  |With mint and black fruit aromas, this is a ripe, fruity wood-aged wine. Power and complexity come from the structure and the dark black fruits. Hints of licorice accent the strong tannins and fruit. Drink from 2018.                                                                                                                                                                                                                                                                                                            |216   |\n",
      "|0.0  |Distinctive in aroma and flavor profile, this medium-bodied red smells like cedar, tobacco and black pepper. A blend of Mourvèdre, Montepulciano and Barbera, it boasts an earthy personality that is appealing and unique. Fifteen percent of the proceeds from the sale of this wine are contributed to the Return To Freedom Wild Horse Sanctuary.                                                                                                                                                                               |341   |\n",
      "|1.0  |Fragrant and fresh, this Grillo opens with alluring scents of acacia flower, beeswax and white stone fruit. The succulent palate offers creamy white peach, juicy nectarine, almond and mineral framed in tangy acidity. A note of chopped herb closes the lingering finish.                                                                                                                                                                                                                                                        |268   |\n",
      "|1.0  |Aromas of blueberry jam, scorched earth, leather, truffle and coffee lead the way on this ripe, accessible wine. The chewy palate offers fleshy blackberry, anise, toast, espresso and a confectionary note alongside mature but rather fleeting tannins. Drink 2016–2020.                                                                                                                                                                                                                                                          |266   |\n",
      "|1.0  |This wine is a conversation starter, with its nose of mandarin orange, lemon peel and vanilla. On the palate, white flowers, citrus and lush tropical fruits mingle well. Pair with salmon and poultry.                                                                                                                                                                                                                                                                                                                             |199   |\n",
      "|1.0  |Fairly deep berry aromas register as dark and ripe. Following the nose, this feels chunky and round, while toasty blackberry flavors remain heavy and dark on a full generous finish. Drink through 2018.                                                                                                                                                                                                                                                                                                                           |201   |\n",
      "+-----+------------------------------------------------------------------------------------------------------------------------------------------------------------------------------------------------------------------------------------------------------------------------------------------------------------------------------------------------------------------------------------------------------------------------------------------------------------------------------------------------------------------------------------+------+\n",
      "only showing top 10 rows\n",
      "\n"
     ]
    }
   ],
   "source": [
    "wine_df_ready.orderBy(rand()).show(10,False)"
   ]
  },
  {
   "cell_type": "code",
   "execution_count": 101,
   "metadata": {},
   "outputs": [
    {
     "name": "stdout",
     "output_type": "stream",
     "text": [
      "+-----+-----------+\n",
      "|Label|avg(Length)|\n",
      "+-----+-----------+\n",
      "|  1.0|    252.964|\n",
      "|  0.0|    254.411|\n",
      "+-----+-----------+\n",
      "\n"
     ]
    }
   ],
   "source": [
    "wine_df_ready.groupBy('Label').agg({'Length':'mean'}).show()"
   ]
  },
  {
   "cell_type": "markdown",
   "metadata": {},
   "source": [
    "### Comment on required data transformation needed to get the data ready for input to the ML algorithm of your choice.\n",
    "We used stopwordsremover because Stopwordremover removes vocab. But punctuations wont be removed. And Tokenizer is used to break the sentences in description column into (single words)tokens. Before we run the algorithm these are the transformations done on the dataset.\n",
    "\n",
    "agg is performed on length and finds avg of set of values in that column\n",
    "\n",
    "To handle punctuations, create a function having a list of punctuations and check for all the reviews with the function and replace them.\n",
    "\n",
    "From the aggregate, we can see that Label 0.0 which is US category is 2 points more than 1.0 which is Non-US category. This indicates there's not much of a difference in the data division."
   ]
  },
  {
   "cell_type": "markdown",
   "metadata": {},
   "source": [
    "## <U> Data Cleaning</U> *EDA*"
   ]
  },
  {
   "cell_type": "markdown",
   "metadata": {},
   "source": [
    "### <U>Remove Punctuations</U>"
   ]
  },
  {
   "cell_type": "code",
   "execution_count": 102,
   "metadata": {},
   "outputs": [],
   "source": [
    "from pyspark.sql.functions import regexp_replace, trim, col, lower\n",
    "\n",
    "def removePunctuation(column):\n",
    "    return trim(lower(regexp_replace(column, '([^\\s\\w_]|_)+', '')))"
   ]
  },
  {
   "cell_type": "code",
   "execution_count": 103,
   "metadata": {},
   "outputs": [],
   "source": [
    "wine_df_ready = wine_df_ready.withColumn('Description_nopunct', removePunctuation(col('Description')))"
   ]
  },
  {
   "cell_type": "markdown",
   "metadata": {},
   "source": [
    "### Required data transformations - tokenizer and stopwords remover\n",
    "Tokenizer splits the sentence into words and also all the letters are converted to lower cases.\n",
    "\n",
    "### <U>Tokenizer</U>"
   ]
  },
  {
   "cell_type": "code",
   "execution_count": 104,
   "metadata": {},
   "outputs": [],
   "source": [
    "#Using description_nopunct column as input to tokenizer as it has punctuations removed\n",
    "from pyspark.ml.feature import Tokenizer\n",
    "tokenization = Tokenizer(inputCol='Description_nopunct',outputCol='tokens')"
   ]
  },
  {
   "cell_type": "code",
   "execution_count": 105,
   "metadata": {},
   "outputs": [],
   "source": [
    "tokenized_df = tokenization.transform(wine_df_ready)"
   ]
  },
  {
   "cell_type": "code",
   "execution_count": 106,
   "metadata": {
    "scrolled": true
   },
   "outputs": [
    {
     "name": "stdout",
     "output_type": "stream",
     "text": [
      "+-----+--------------------------------------------------------------------------------------------------------------------------------------------------------------------------------------------------------------------------------------------------------------------------------------------------------------------------------------------------------------------------------------------------+------+----------------------------------------------------------------------------------------------------------------------------------------------------------------------------------------------------------------------------------------------------------------------------------------------------------------------------------------------------------------------------------+-------------------------------------------------------------------------------------------------------------------------------------------------------------------------------------------------------------------------------------------------------------------------------------------------------------------------------------------------------------------------------------------------------------------------------------------------+\n",
      "|Label|Description                                                                                                                                                                                                                                                                                                                                                                                       |length|Description_nopunct                                                                                                                                                                                                                                                                                                                                                               |tokens                                                                                                                                                                                                                                                                                                                                                                                                                                           |\n",
      "+-----+--------------------------------------------------------------------------------------------------------------------------------------------------------------------------------------------------------------------------------------------------------------------------------------------------------------------------------------------------------------------------------------------------+------+----------------------------------------------------------------------------------------------------------------------------------------------------------------------------------------------------------------------------------------------------------------------------------------------------------------------------------------------------------------------------------+-------------------------------------------------------------------------------------------------------------------------------------------------------------------------------------------------------------------------------------------------------------------------------------------------------------------------------------------------------------------------------------------------------------------------------------------------+\n",
      "|0.0  |This tremendous 100% varietal wine hails from Oakville and was aged over three years in oak. Juicy red-cherry fruit and a compelling hint of caramel greet the palate, framed by elegant, fine tannins and a subtle minty tone in the background. Balanced and rewarding from start to finish, it has years ahead of it to develop further nuance. Enjoy 2022–2030.                               |355   |this tremendous 100 varietal wine hails from oakville and was aged over three years in oak juicy redcherry fruit and a compelling hint of caramel greet the palate framed by elegant fine tannins and a subtle minty tone in the background balanced and rewarding from start to finish it has years ahead of it to develop further nuance enjoy 20222030                         |[this, tremendous, 100, varietal, wine, hails, from, oakville, and, was, aged, over, three, years, in, oak, juicy, redcherry, fruit, and, a, compelling, hint, of, caramel, greet, the, palate, framed, by, elegant, fine, tannins, and, a, subtle, minty, tone, in, the, background, balanced, and, rewarding, from, start, to, finish, it, has, years, ahead, of, it, to, develop, further, nuance, enjoy, 20222030]                           |\n",
      "|0.0  |Mac Watson honors the memory of a wine once made by his mother in this tremendously delicious, balanced and complex botrytised white. Dark gold in color, it layers toasted hazelnut, pear compote and orange peel flavors, reveling in the succulence of its 122 g/L of residual sugar.                                                                                                          |280   |mac watson honors the memory of a wine once made by his mother in this tremendously delicious balanced and complex botrytised white dark gold in color it layers toasted hazelnut pear compote and orange peel flavors reveling in the succulence of its 122 gl of residual sugar                                                                                                 |[mac, watson, honors, the, memory, of, a, wine, once, made, by, his, mother, in, this, tremendously, delicious, balanced, and, complex, botrytised, white, dark, gold, in, color, it, layers, toasted, hazelnut, pear, compote, and, orange, peel, flavors, reveling, in, the, succulence, of, its, 122, gl, of, residual, sugar]                                                                                                                |\n",
      "|0.0  |This spent 20 months in 30% new French oak, and incorporates fruit from Ponzi's Aurora, Abetina and Madrona vineyards, among others. Aromatic, dense and toasty, it deftly blends aromas and flavors of toast, cigar box, blackberry, black cherry, coffee and graphite. Tannins are polished to a fine sheen, and frame a finish loaded with dark chocolate and espresso. Drink now through 2032.|386   |this spent 20 months in 30 new french oak and incorporates fruit from ponzis aurora abetina and madrona vineyards among others aromatic dense and toasty it deftly blends aromas and flavors of toast cigar box blackberry black cherry coffee and graphite tannins are polished to a fine sheen and frame a finish loaded with dark chocolate and espresso drink now through 2032|[this, spent, 20, months, in, 30, new, french, oak, and, incorporates, fruit, from, ponzis, aurora, abetina, and, madrona, vineyards, among, others, aromatic, dense, and, toasty, it, deftly, blends, aromas, and, flavors, of, toast, cigar, box, blackberry, black, cherry, coffee, and, graphite, tannins, are, polished, to, a, fine, sheen, and, frame, a, finish, loaded, with, dark, chocolate, and, espresso, drink, now, through, 2032]|\n",
      "|0.0  |This re-named vineyard was formerly bottled as deLancellotti. You'll find striking minerality underscoring chunky black fruits. Accents of citrus and graphite comingle, with exceptional midpalate concentration. This is a wine to cellar, though it is already quite enjoyable. Drink now through 2030.                                                                                        |298   |this renamed vineyard was formerly bottled as delancellotti youll find striking minerality underscoring chunky black fruits accents of citrus and graphite comingle with exceptional midpalate concentration this is a wine to cellar though it is already quite enjoyable drink now through 2030                                                                                 |[this, renamed, vineyard, was, formerly, bottled, as, delancellotti, youll, find, striking, minerality, underscoring, chunky, black, fruits, accents, of, citrus, and, graphite, comingle, with, exceptional, midpalate, concentration, this, is, a, wine, to, cellar, though, it, is, already, quite, enjoyable, drink, now, through, 2030]                                                                                                     |\n",
      "|0.0  |The producer sources from two blocks of the vineyard for this wine—one at a high elevation, which contributes bright acidity. Crunchy cranberry, pomegranate and orange peel flavors surround silky, succulent layers of texture that present as fleshy fruit. That delicately lush flavor has considerable length.                                                                               |307   |the producer sources from two blocks of the vineyard for this wineone at a high elevation which contributes bright acidity crunchy cranberry pomegranate and orange peel flavors surround silky succulent layers of texture that present as fleshy fruit that delicately lush flavor has considerable length                                                                      |[the, producer, sources, from, two, blocks, of, the, vineyard, for, this, wineone, at, a, high, elevation, which, contributes, bright, acidity, crunchy, cranberry, pomegranate, and, orange, peel, flavors, surround, silky, succulent, layers, of, texture, that, present, as, fleshy, fruit, that, delicately, lush, flavor, has, considerable, length]                                                                                       |\n",
      "+-----+--------------------------------------------------------------------------------------------------------------------------------------------------------------------------------------------------------------------------------------------------------------------------------------------------------------------------------------------------------------------------------------------------+------+----------------------------------------------------------------------------------------------------------------------------------------------------------------------------------------------------------------------------------------------------------------------------------------------------------------------------------------------------------------------------------+-------------------------------------------------------------------------------------------------------------------------------------------------------------------------------------------------------------------------------------------------------------------------------------------------------------------------------------------------------------------------------------------------------------------------------------------------+\n",
      "only showing top 5 rows\n",
      "\n"
     ]
    }
   ],
   "source": [
    "tokenized_df.show(5, False)"
   ]
  },
  {
   "cell_type": "code",
   "execution_count": 107,
   "metadata": {},
   "outputs": [],
   "source": [
    "#Some very common words such as 'this', 'the', 'to' etc are known as stop words. \n",
    "#In order to decrease the computation overhead, its always a good idea to drop them\n",
    "#hence we use stopwordsremover\n",
    "from pyspark.ml.feature import StopWordsRemover\n",
    "stopword_removal = StopWordsRemover(inputCol='tokens',outputCol='refined_tokens')"
   ]
  },
  {
   "cell_type": "code",
   "execution_count": 108,
   "metadata": {},
   "outputs": [],
   "source": [
    "refined_text_df = stopword_removal.transform(tokenized_df)"
   ]
  },
  {
   "cell_type": "code",
   "execution_count": 109,
   "metadata": {
    "scrolled": true
   },
   "outputs": [
    {
     "name": "stdout",
     "output_type": "stream",
     "text": [
      "+-----+--------------------+------+--------------------+--------------------+--------------------+\n",
      "|Label|         Description|length| Description_nopunct|              tokens|      refined_tokens|\n",
      "+-----+--------------------+------+--------------------+--------------------+--------------------+\n",
      "|  0.0|This tremendous 1...|   355|this tremendous 1...|[this, tremendous...|[tremendous, 100,...|\n",
      "|  0.0|Mac Watson honors...|   280|mac watson honors...|[mac, watson, hon...|[mac, watson, hon...|\n",
      "|  0.0|This spent 20 mon...|   386|this spent 20 mon...|[this, spent, 20,...|[spent, 20, month...|\n",
      "|  0.0|This re-named vin...|   298|this renamed vine...|[this, renamed, v...|[renamed, vineyar...|\n",
      "|  0.0|The producer sour...|   307|the producer sour...|[the, producer, s...|[producer, source...|\n",
      "|  0.0|From 18-year-old ...|   260|from 18yearold vi...|[from, 18yearold,...|[18yearold, vines...|\n",
      "|  0.0|A standout even i...|   289|a standout even i...|[a, standout, eve...|[standout, even, ...|\n",
      "|  0.0|With its sophisti...|   427|with its sophisti...|[with, its, sophi...|[sophisticated, m...|\n",
      "|  0.0|First made in 200...|   277|first made in 200...|[first, made, in,...|[first, made, 200...|\n",
      "|  0.0|This blockbuster,...|   276|this blockbuster ...|[this, blockbuste...|[blockbuster, pow...|\n",
      "|  0.0|This fresh and li...|   260|this fresh and li...|[this, fresh, and...|[fresh, lively, m...|\n",
      "|  0.0|Heitz has made th...|   213|heitz has made th...|[heitz, has, made...|[heitz, made, ste...|\n",
      "|  0.0|The apogee of thi...|   323|the apogee of thi...|[the, apogee, of,...|[apogee, ambitiou...|\n",
      "|  0.0|San Jose-based pr...|   341|san josebased pro...|[san, josebased, ...|[san, josebased, ...|\n",
      "|  0.0|Bergström has mad...|   295|bergstrm has made...|[bergstrm, has, m...|[bergstrm, made, ...|\n",
      "|  0.0|Focused and dense...|   327|focused and dense...|[focused, and, de...|[focused, dense, ...|\n",
      "|  0.0|Cranberry, baked ...|   292|cranberry baked r...|[cranberry, baked...|[cranberry, baked...|\n",
      "|  0.0|This standout Roc...|   333|this standout roc...|[this, standout, ...|[standout, rocks,...|\n",
      "|  0.0|Steely and perfum...|   207|steely and perfum...|[steely, and, per...|[steely, perfumed...|\n",
      "|  0.0|The aromas entice...|   158|the aromas entice...|[the, aromas, ent...|[aromas, entice, ...|\n",
      "+-----+--------------------+------+--------------------+--------------------+--------------------+\n",
      "only showing top 20 rows\n",
      "\n"
     ]
    }
   ],
   "source": [
    "refined_text_df.show()"
   ]
  },
  {
   "cell_type": "code",
   "execution_count": 110,
   "metadata": {},
   "outputs": [
    {
     "name": "stdout",
     "output_type": "stream",
     "text": [
      "4000 6\n"
     ]
    }
   ],
   "source": [
    "# size of the dataset\n",
    "print(refined_text_df.count(),len(refined_text_df.columns))"
   ]
  },
  {
   "cell_type": "code",
   "execution_count": 111,
   "metadata": {},
   "outputs": [
    {
     "name": "stdout",
     "output_type": "stream",
     "text": [
      "root\n",
      " |-- Label: float (nullable = true)\n",
      " |-- Description: string (nullable = true)\n",
      " |-- length: integer (nullable = true)\n",
      " |-- Description_nopunct: string (nullable = true)\n",
      " |-- tokens: array (nullable = true)\n",
      " |    |-- element: string (containsNull = true)\n",
      " |-- refined_tokens: array (nullable = true)\n",
      " |    |-- element: string (containsNull = true)\n",
      "\n"
     ]
    }
   ],
   "source": [
    "# Schema of the dataset with 6 columns, where 4 columns were created after tokenization and Stopwords Removal\n",
    "refined_text_df.printSchema()"
   ]
  },
  {
   "cell_type": "code",
   "execution_count": 112,
   "metadata": {},
   "outputs": [
    {
     "name": "stdout",
     "output_type": "stream",
     "text": [
      "+-----+-----+\n",
      "|Label|count|\n",
      "+-----+-----+\n",
      "|  1.0| 2000|\n",
      "|  0.0| 2000|\n",
      "+-----+-----+\n",
      "\n"
     ]
    }
   ],
   "source": [
    "# data distribution\n",
    "# validate the number of movie reviews for each Origin.\n",
    "refined_text_df.groupBy('Label').count().show()"
   ]
  },
  {
   "cell_type": "markdown",
   "metadata": {},
   "source": [
    "Both US and Non-US movie reviews count are the same (2000 each). We can say that we are dealing with a balanced dataset here as both the Origin(Label) classes have similar number of reviews."
   ]
  },
  {
   "cell_type": "markdown",
   "metadata": {},
   "source": [
    "### Comments on transformations required\n",
    "Since we are now dealing with tokens instead of entire review, it would make more sense to capture a number of tokens in each review rather than using the length of the review. We create another column (token_count) that gives the number of tokens in each row."
   ]
  },
  {
   "cell_type": "code",
   "execution_count": 113,
   "metadata": {},
   "outputs": [],
   "source": [
    "from pyspark.sql.functions import udf\n",
    "from pyspark.sql.types import IntegerType\n",
    "from pyspark.sql.functions import *"
   ]
  },
  {
   "cell_type": "code",
   "execution_count": 114,
   "metadata": {},
   "outputs": [],
   "source": [
    "len_udf = udf(lambda s: len(s), IntegerType())\n",
    "refined_text_df = refined_text_df.withColumn(\"token_count\", len_udf(col('refined_tokens')))"
   ]
  },
  {
   "cell_type": "code",
   "execution_count": 115,
   "metadata": {},
   "outputs": [
    {
     "name": "stdout",
     "output_type": "stream",
     "text": [
      "+-----+--------------------+------+--------------------+--------------------+--------------------+-----------+\n",
      "|Label|         Description|length| Description_nopunct|              tokens|      refined_tokens|token_count|\n",
      "+-----+--------------------+------+--------------------+--------------------+--------------------+-----------+\n",
      "|  0.0|Intense aromatics...|   302|intense aromatics...|[intense, aromati...|[intense, aromati...|         32|\n",
      "|  1.0|Aged in wood, thi...|   349|aged in wood this...|[aged, in, wood, ...|[aged, wood, wine...|         33|\n",
      "|  0.0|Named after a tra...|   293|named after a tra...|[named, after, a,...|[named, trail, gr...|         30|\n",
      "|  1.0|Lifted honeysuckl...|   279|lifted honeysuckl...|[lifted, honeysuc...|[lifted, honeysuc...|         27|\n",
      "|  0.0|This has a dark r...|   364|this has a dark r...|[this, has, a, da...|[dark, redblack, ...|         35|\n",
      "|  1.0|Blackberry, cassi...|   265|blackberry cassis...|[blackberry, cass...|[blackberry, cass...|         26|\n",
      "|  0.0|This Bordeaux-sty...|   201|this bordeauxstyl...|[this, bordeauxst...|[bordeauxstyle, b...|         19|\n",
      "|  1.0|Aromas of forest ...|   265|aromas of forest ...|[aromas, of, fore...|[aromas, forest, ...|         31|\n",
      "|  0.0|Complexities of m...|   285|complexities of m...|[complexities, of...|[complexities, mu...|         27|\n",
      "|  0.0|Tempting buttery ...|   247|tempting buttery ...|[tempting, butter...|[tempting, butter...|         26|\n",
      "+-----+--------------------+------+--------------------+--------------------+--------------------+-----------+\n",
      "only showing top 10 rows\n",
      "\n"
     ]
    }
   ],
   "source": [
    "refined_text_df.orderBy(rand()).show(10)"
   ]
  },
  {
   "cell_type": "code",
   "execution_count": 116,
   "metadata": {},
   "outputs": [
    {
     "name": "stdout",
     "output_type": "stream",
     "text": [
      "root\n",
      " |-- Label: float (nullable = true)\n",
      " |-- Description: string (nullable = true)\n",
      " |-- length: integer (nullable = true)\n",
      " |-- Description_nopunct: string (nullable = true)\n",
      " |-- tokens: array (nullable = true)\n",
      " |    |-- element: string (containsNull = true)\n",
      " |-- refined_tokens: array (nullable = true)\n",
      " |    |-- element: string (containsNull = true)\n",
      " |-- token_count: integer (nullable = true)\n",
      "\n"
     ]
    }
   ],
   "source": [
    "refined_text_df.printSchema()"
   ]
  },
  {
   "cell_type": "code",
   "execution_count": 117,
   "metadata": {},
   "outputs": [
    {
     "name": "stdout",
     "output_type": "stream",
     "text": [
      "+-----+-----+\n",
      "|Label|count|\n",
      "+-----+-----+\n",
      "|  1.0| 2000|\n",
      "|  0.0| 2000|\n",
      "+-----+-----+\n",
      "\n"
     ]
    }
   ],
   "source": [
    "refined_text_df.groupby('Label').count().show()"
   ]
  },
  {
   "cell_type": "markdown",
   "metadata": {},
   "source": [
    "*Feature Vectorization using Count Vectorizer to convert text into numerical features*"
   ]
  },
  {
   "cell_type": "code",
   "execution_count": 118,
   "metadata": {},
   "outputs": [],
   "source": [
    "from pyspark.ml.feature import CountVectorizer\n",
    "count_vec = CountVectorizer(inputCol='refined_tokens',outputCol='features')"
   ]
  },
  {
   "cell_type": "code",
   "execution_count": 119,
   "metadata": {},
   "outputs": [],
   "source": [
    "cv_text_df = count_vec.fit(refined_text_df).transform(refined_text_df)"
   ]
  },
  {
   "cell_type": "code",
   "execution_count": 120,
   "metadata": {},
   "outputs": [
    {
     "name": "stdout",
     "output_type": "stream",
     "text": [
      "+--------------------+-----------+--------------------+-----+\n",
      "|      refined_tokens|token_count|            features|Label|\n",
      "+--------------------+-----------+--------------------+-----+\n",
      "|[tremendous, 100,...|         36|(8239,[0,2,4,5,8,...|  0.0|\n",
      "|[mac, watson, hon...|         30|(8239,[0,1,25,29,...|  0.0|\n",
      "|[spent, 20, month...|         43|(8239,[1,3,4,5,6,...|  0.0|\n",
      "|[renamed, vineyar...|         28|(8239,[0,6,7,22,5...|  0.0|\n",
      "|[producer, source...|         30|(8239,[1,4,9,30,3...|  0.0|\n",
      "|[18yearold, vines...|         27|(8239,[0,1,7,10,3...|  0.0|\n",
      "|[standout, even, ...|         29|(8239,[1,4,11,27,...|  0.0|\n",
      "|[sophisticated, m...|         40|(8239,[6,7,8,10,1...|  0.0|\n",
      "|[first, made, 200...|         27|(8239,[1,7,19,92,...|  0.0|\n",
      "|[blockbuster, pow...|         26|(8239,[0,2,16,20,...|  0.0|\n",
      "+--------------------+-----------+--------------------+-----+\n",
      "only showing top 10 rows\n",
      "\n"
     ]
    }
   ],
   "source": [
    "cv_text_df.select(['refined_tokens','token_count','features','Label']).show(10)"
   ]
  },
  {
   "cell_type": "markdown",
   "metadata": {},
   "source": [
    "### Comment on required data transformation needed to get the data ready for input to the ML algorithm of our choice.  "
   ]
  },
  {
   "cell_type": "markdown",
   "metadata": {},
   "source": [
    "We are going to do feature Vectorization using TF_IDF to convert text into numerical features as we have to deal with numerical data and not string type. For this we're using Hashing TF-IDF vectorisation and transform it into a vector. "
   ]
  },
  {
   "cell_type": "markdown",
   "metadata": {},
   "source": [
    "## The data transformation. Use TF-IDF method of transforming token to their respective numeric values. "
   ]
  },
  {
   "cell_type": "code",
   "execution_count": 121,
   "metadata": {},
   "outputs": [],
   "source": [
    "from pyspark.ml.feature import HashingTF,IDF"
   ]
  },
  {
   "cell_type": "code",
   "execution_count": 122,
   "metadata": {},
   "outputs": [],
   "source": [
    "hashing_vec = HashingTF(inputCol='refined_tokens',outputCol='tf_features')"
   ]
  },
  {
   "cell_type": "code",
   "execution_count": 123,
   "metadata": {},
   "outputs": [],
   "source": [
    "hashing_df = hashing_vec.transform(refined_text_df)"
   ]
  },
  {
   "cell_type": "code",
   "execution_count": 124,
   "metadata": {
    "scrolled": true
   },
   "outputs": [
    {
     "name": "stdout",
     "output_type": "stream",
     "text": [
      "+---------------------------------------------------------------------------------------------------------------------------------------------------------------------------------------------------------------------------------------------------------------------------------------------------------------------------------------------------+-----------+-----------------------------------------------------------------------------------------------------------------------------------------------------------------------------------------------------------------------------------------------------------------------------------------------------------------------------------------------------------------------------------------------------------------------------------------------------------------------------------+-----+\n",
      "|refined_tokens                                                                                                                                                                                                                                                                                                                                     |token_count|tf_features                                                                                                                                                                                                                                                                                                                                                                                                                                                                        |label|\n",
      "+---------------------------------------------------------------------------------------------------------------------------------------------------------------------------------------------------------------------------------------------------------------------------------------------------------------------------------------------------+-----------+-----------------------------------------------------------------------------------------------------------------------------------------------------------------------------------------------------------------------------------------------------------------------------------------------------------------------------------------------------------------------------------------------------------------------------------------------------------------------------------+-----+\n",
      "|[tremendous, 100, varietal, wine, hails, oakville, aged, three, years, oak, juicy, redcherry, fruit, compelling, hint, caramel, greet, palate, framed, elegant, fine, tannins, subtle, minty, tone, background, balanced, rewarding, start, finish, years, ahead, develop, nuance, enjoy, 20222030]                                                |36         |(262144,[5358,20495,28401,50323,64926,68345,74473,75898,84547,85321,88244,99511,109840,112796,120429,124795,125124,136793,144799,153032,156017,158571,158845,158931,170565,203214,212740,219140,219700,223329,225357,245453,245951,246030,261211],[1.0,1.0,1.0,1.0,1.0,1.0,2.0,1.0,1.0,1.0,1.0,1.0,1.0,1.0,1.0,1.0,1.0,1.0,1.0,1.0,1.0,1.0,1.0,1.0,1.0,1.0,1.0,1.0,1.0,1.0,1.0,1.0,1.0,1.0,1.0])                                                                                   |0.0  |\n",
      "|[mac, watson, honors, memory, wine, made, mother, tremendously, delicious, balanced, complex, botrytised, white, dark, gold, color, layers, toasted, hazelnut, pear, compote, orange, peel, flavors, reveling, succulence, 122, gl, residual, sugar]                                                                                               |30         |(262144,[40266,43897,56749,57341,57508,61157,64289,88398,90748,93969,98087,99270,104786,131881,140784,145378,146009,148957,191337,203214,209402,223329,225667,229305,235618,238819,238835,244282,249846,261845],[1.0,1.0,1.0,1.0,1.0,1.0,1.0,1.0,1.0,1.0,1.0,1.0,1.0,1.0,1.0,1.0,1.0,1.0,1.0,1.0,1.0,1.0,1.0,1.0,1.0,1.0,1.0,1.0,1.0,1.0])                                                                                                                                         |0.0  |\n",
      "|[spent, 20, months, 30, new, french, oak, incorporates, fruit, ponzis, aurora, abetina, madrona, vineyards, among, others, aromatic, dense, toasty, deftly, blends, aromas, flavors, toast, cigar, box, blackberry, black, cherry, coffee, graphite, tannins, polished, fine, sheen, frame, finish, loaded, dark, chocolate, espresso, drink, 2032]|43         |(262144,[15519,23762,25381,29945,32292,42080,43870,69299,78216,78329,79846,81046,84547,85829,88244,89402,90757,98627,107621,130598,130631,131881,141012,146328,147503,147786,157757,158845,168887,176683,189792,203659,205876,211900,219700,229305,238045,241259,245951,250282,250802,258633,259842],[1.0,1.0,1.0,1.0,1.0,1.0,1.0,1.0,1.0,1.0,1.0,1.0,1.0,1.0,1.0,1.0,1.0,1.0,1.0,1.0,1.0,1.0,1.0,1.0,1.0,1.0,1.0,1.0,1.0,1.0,1.0,1.0,1.0,1.0,1.0,1.0,1.0,1.0,1.0,1.0,1.0,1.0,1.0])|0.0  |\n",
      "|[renamed, vineyard, formerly, bottled, delancellotti, youll, find, striking, minerality, underscoring, chunky, black, fruits, accents, citrus, graphite, comingle, exceptional, midpalate, concentration, wine, cellar, though, already, quite, enjoyable, drink, 2030]                                                                            |28         |(262144,[3189,3199,5460,62713,68951,69299,73156,82884,85769,90757,91878,92552,123708,143185,157236,165159,178126,179287,194936,197339,205876,217740,219792,222710,223329,230272,244102,252950],[1.0,1.0,1.0,1.0,1.0,1.0,1.0,1.0,1.0,1.0,1.0,1.0,1.0,1.0,1.0,1.0,1.0,1.0,1.0,1.0,1.0,1.0,1.0,1.0,1.0,1.0,1.0,1.0])                                                                                                                                                                  |0.0  |\n",
      "+---------------------------------------------------------------------------------------------------------------------------------------------------------------------------------------------------------------------------------------------------------------------------------------------------------------------------------------------------+-----------+-----------------------------------------------------------------------------------------------------------------------------------------------------------------------------------------------------------------------------------------------------------------------------------------------------------------------------------------------------------------------------------------------------------------------------------------------------------------------------------+-----+\n",
      "only showing top 4 rows\n",
      "\n"
     ]
    }
   ],
   "source": [
    "hashing_df.select(['refined_tokens','token_count','tf_features','label']).show(4,False)"
   ]
  },
  {
   "cell_type": "markdown",
   "metadata": {},
   "source": [
    "Here,\n",
    "\n",
    "262144 - This represents the number of features to be included in each tf_feature vector.\n",
    "\n",
    "[40266,43897,56749,57341,57508,61157,64289,88398,90748,93969,98087,99270,104786,131881,140784,145378,\n",
    "146009,148957,191337,203214,209402,223329,225667,229305,235618,238819,238835,244...] implies TF scores calculated by HashingTF.\n",
    "[1.0,1.0,1.0,1.0,1.0,1.0,1.0,1.0,1.0,1.0,1.0,1.0,1.0,1.0,1.0,1.0,1.0,1.0,1.0,1.0,1.0,1.0,1.0,1.0,1.0,1.0,\n",
    "1.0,1.0,1.0,1.0,1.0,1.0,1.0,..] implies the number of times that term appeared in the document. "
   ]
  },
  {
   "cell_type": "code",
   "execution_count": 125,
   "metadata": {},
   "outputs": [],
   "source": [
    "tf_idf_vec = IDF(inputCol = 'tf_features', outputCol = 'tf_idf_features')"
   ]
  },
  {
   "cell_type": "code",
   "execution_count": 126,
   "metadata": {},
   "outputs": [],
   "source": [
    "tf_idf_df = tf_idf_vec.fit(hashing_df).transform(hashing_df)"
   ]
  },
  {
   "cell_type": "code",
   "execution_count": 127,
   "metadata": {
    "scrolled": true
   },
   "outputs": [
    {
     "name": "stdout",
     "output_type": "stream",
     "text": [
      "+------------------------------------------------------------------------------------------------------------------------------------------------------------------------------------------------------------------------------------------------------------------------------------------------------------------------------------------------------------------------------------------------------------------------------------------------------------------------------------------------------------------------------------------------------------------------------------------------------------------------------------------------------------------------------------------------------------------------------------------------------------------------------------------------------------------------------------------------------------------------------------------------------------------------------------------------------------------------------------------------------------------------------------------------------------------------------------------------------------------------+\n",
      "|tf_idf_features                                                                                                                                                                                                                                                                                                                                                                                                                                                                                                                                                                                                                                                                                                                                                                                                                                                                                                                                                                                                                                                                                                         |\n",
      "+------------------------------------------------------------------------------------------------------------------------------------------------------------------------------------------------------------------------------------------------------------------------------------------------------------------------------------------------------------------------------------------------------------------------------------------------------------------------------------------------------------------------------------------------------------------------------------------------------------------------------------------------------------------------------------------------------------------------------------------------------------------------------------------------------------------------------------------------------------------------------------------------------------------------------------------------------------------------------------------------------------------------------------------------------------------------------------------------------------------------+\n",
      "|(262144,[5358,20495,28401,50323,64926,68345,74473,75898,84547,85321,88244,99511,109840,112796,120429,124795,125124,136793,144799,153032,156017,158571,158845,158931,170565,203214,212740,219140,219700,223329,225357,245453,245951,246030,261211],[3.0793638512482495,4.251248341022685,3.990234515653065,2.2398602625878645,5.809392959069235,4.045804366807876,6.734091847400061,5.116245778509289,1.2092353149046875,4.860312404372089,1.1819721641463234,4.998462742852906,3.990234515653065,7.60115242829729,4.251248341022685,3.8998504541847963,3.669326795572964,0.9678339950169129,6.214858067177399,5.203257155498919,6.50254013962918,6.50254013962918,1.2857944267749548,3.052552593797593,5.896404336058865,2.7491221643776727,4.8931022271950795,5.158805392928086,2.0756994891655056,0.7404887568490033,5.809392959069235,5.9917145158631895,3.4267651584016527,6.908005247737345,3.963566268570904])                                                                                                                                                                                                    |\n",
      "|(262144,[40266,43897,56749,57341,57508,61157,64289,88398,90748,93969,98087,99270,104786,131881,140784,145378,146009,148957,191337,203214,209402,223329,225667,229305,235618,238819,238835,244282,249846,261845],[7.195687320189125,3.6214707743953287,3.09029292178044,2.386216670688304,4.5330994931636726,7.60115242829729,4.962095098682031,6.908005247737345,6.908005247737345,3.0009947841327427,3.6891294228691436,3.244443601607698,7.60115242829729,0.823505834662173,3.09029292178044,7.195687320189125,3.3670459237000303,5.203257155498919,4.362473976132909,2.7491221643776727,7.60115242829729,0.7404887568490033,3.7834401023403847,2.2904125417506958,7.60115242829729,2.7413400239356176,6.097075031521015,7.60115242829729,7.195687320189125,6.097075031521015])                                                                                                                                                                                                                                                                                                                                       |\n",
      "|(262144,[15519,23762,25381,29945,32292,42080,43870,69299,78216,78329,79846,81046,84547,85829,88244,89402,90757,98627,107621,130598,130631,131881,141012,146328,147503,147786,157757,158845,168887,176683,189792,203659,205876,211900,219700,229305,238045,241259,245951,250282,250802,258633,259842],[7.60115242829729,3.0631909920026485,7.60115242829729,3.206703273624851,3.8169627943790285,6.50254013962918,5.158805392928086,4.324007695305113,5.298567335303244,3.212895243872772,2.351500233730534,3.9768114953209244,1.2092353149046875,3.887580361592982,1.1819721641463234,2.7569653418386983,1.4473564692718555,4.4024793107466085,5.586249407755025,7.60115242829729,6.684861696423135,0.823505834662173,4.683381696213011,6.348389459801922,3.141008014359456,1.0879223173849828,3.4191022856560833,1.2857944267749548,2.956761529155917,7.60115242829729,5.896404336058865,5.203257155498919,1.2678728001575992,7.60115242829729,2.0756994891655056,2.2904125417506958,4.683381696213011,3.4114976862708644,3.4267651584016527,1.4304962174042808,4.286966423624764,3.4039504806354812,7.60115242829729])|\n",
      "|(262144,[3189,3199,5460,62713,68951,69299,73156,82884,85769,90757,91878,92552,123708,143185,157236,165159,178126,179287,194936,197339,205876,217740,219792,222710,223329,230272,244102,252950],[6.097075031521015,7.60115242829729,2.178407483374201,3.9375907821676432,4.104644866830809,4.324007695305113,6.097075031521015,3.6791790920159757,4.927003778870761,1.4473564692718555,4.797792047390755,4.927003778870761,7.60115242829729,7.60115242829729,4.268947918122086,3.5407094177508704,2.784911272229258,6.684861696423135,3.345539718479067,4.305315562292961,1.2678728001575992,7.195687320189125,4.860312404372089,2.8562202999340394,0.7404887568490033,5.809392959069235,5.40392785096107,4.510109974938974])                                                                                                                                                                                                                                                                                                                                                                                            |\n",
      "+------------------------------------------------------------------------------------------------------------------------------------------------------------------------------------------------------------------------------------------------------------------------------------------------------------------------------------------------------------------------------------------------------------------------------------------------------------------------------------------------------------------------------------------------------------------------------------------------------------------------------------------------------------------------------------------------------------------------------------------------------------------------------------------------------------------------------------------------------------------------------------------------------------------------------------------------------------------------------------------------------------------------------------------------------------------------------------------------------------------------+\n",
      "only showing top 4 rows\n",
      "\n"
     ]
    }
   ],
   "source": [
    "tf_idf_df.select(['tf_idf_features']).show(4, False)"
   ]
  },
  {
   "cell_type": "markdown",
   "metadata": {},
   "source": [
    "Here, 262144 - implies default number of features to be included in each vector.\n",
    "\n",
    "[15519,23762,25381,29945,32292,42080,43870,69299,78216,78329,79846,81046,84547,85829,88244,89402,90757,98627,107621,130598,130631,131881,14101....  ] implies IF-IDF scores.\n"
   ]
  },
  {
   "cell_type": "code",
   "execution_count": 128,
   "metadata": {},
   "outputs": [
    {
     "name": "stdout",
     "output_type": "stream",
     "text": [
      "root\n",
      " |-- Label: float (nullable = true)\n",
      " |-- Description: string (nullable = true)\n",
      " |-- length: integer (nullable = true)\n",
      " |-- Description_nopunct: string (nullable = true)\n",
      " |-- tokens: array (nullable = true)\n",
      " |    |-- element: string (containsNull = true)\n",
      " |-- refined_tokens: array (nullable = true)\n",
      " |    |-- element: string (containsNull = true)\n",
      " |-- token_count: integer (nullable = true)\n",
      " |-- tf_features: vector (nullable = true)\n",
      " |-- tf_idf_features: vector (nullable = true)\n",
      "\n"
     ]
    }
   ],
   "source": [
    "tf_idf_df.printSchema()"
   ]
  },
  {
   "cell_type": "markdown",
   "metadata": {},
   "source": [
    "## Application of the ML algorithm of our choice. Use an 80/20 split for creating training and test dataset. "
   ]
  },
  {
   "cell_type": "code",
   "execution_count": 129,
   "metadata": {},
   "outputs": [],
   "source": [
    "from pyspark.ml.feature import VectorAssembler"
   ]
  },
  {
   "cell_type": "code",
   "execution_count": 130,
   "metadata": {},
   "outputs": [],
   "source": [
    "#select data for building model\n",
    "model_text_df = tf_idf_df.select(['tf_idf_features','token_count','Label'])"
   ]
  },
  {
   "cell_type": "code",
   "execution_count": 131,
   "metadata": {},
   "outputs": [],
   "source": [
    "#Once we've feature vector, we can use VectorAssembler to create input features for the machine learning model.\n",
    "df_assembler = VectorAssembler(inputCols = ['tf_idf_features'],outputCol = 'tf_idf_features_vec')\n",
    "model_text_df = df_assembler.transform(model_text_df)"
   ]
  },
  {
   "cell_type": "code",
   "execution_count": 132,
   "metadata": {},
   "outputs": [
    {
     "name": "stdout",
     "output_type": "stream",
     "text": [
      "root\n",
      " |-- tf_idf_features: vector (nullable = true)\n",
      " |-- token_count: integer (nullable = true)\n",
      " |-- Label: float (nullable = true)\n",
      " |-- tf_idf_features_vec: vector (nullable = true)\n",
      "\n"
     ]
    }
   ],
   "source": [
    "model_text_df.printSchema()"
   ]
  },
  {
   "cell_type": "markdown",
   "metadata": {},
   "source": [
    "We can see that after vectorisation, tf_idf_features is now a vector datatype."
   ]
  },
  {
   "cell_type": "markdown",
   "metadata": {},
   "source": [
    "We can use any of the classification models on this data, but we\n",
    "proceed with training the Logistic Regression Model."
   ]
  },
  {
   "cell_type": "code",
   "execution_count": 133,
   "metadata": {},
   "outputs": [],
   "source": [
    "from pyspark.ml.classification import LogisticRegression"
   ]
  },
  {
   "cell_type": "code",
   "execution_count": 134,
   "metadata": {},
   "outputs": [],
   "source": [
    "#split the data \n",
    "training_df,test_df = model_text_df.randomSplit([0.80,0.20])we"
   ]
  },
  {
   "cell_type": "markdown",
   "metadata": {},
   "source": [
    "To validate the presence of enough records for both classes in the train\n",
    "and test dataset, we can apply the groupBy function on the Label column."
   ]
  },
  {
   "cell_type": "markdown",
   "metadata": {},
   "source": [
    "### Explanatory Data Analysis"
   ]
  },
  {
   "cell_type": "code",
   "execution_count": 135,
   "metadata": {},
   "outputs": [
    {
     "name": "stdout",
     "output_type": "stream",
     "text": [
      "+-----+-----+\n",
      "|Label|count|\n",
      "+-----+-----+\n",
      "|  1.0| 1568|\n",
      "|  0.0| 1594|\n",
      "+-----+-----+\n",
      "\n"
     ]
    }
   ],
   "source": [
    "training_df.groupBy('Label').count().show()"
   ]
  },
  {
   "cell_type": "code",
   "execution_count": 136,
   "metadata": {},
   "outputs": [
    {
     "name": "stdout",
     "output_type": "stream",
     "text": [
      "+-----+-----+\n",
      "|Label|count|\n",
      "+-----+-----+\n",
      "|  1.0|  432|\n",
      "|  0.0|  406|\n",
      "+-----+-----+\n",
      "\n"
     ]
    }
   ],
   "source": [
    "test_df.groupBy('Label').count().show()"
   ]
  },
  {
   "cell_type": "markdown",
   "metadata": {},
   "source": [
    "To validate the presence of enough records for both classes in the train and test dataset, we can apply the groupBy function on the Label column."
   ]
  },
  {
   "cell_type": "markdown",
   "metadata": {},
   "source": [
    "## Train the model using the training dataset. "
   ]
  },
  {
   "cell_type": "code",
   "execution_count": 137,
   "metadata": {},
   "outputs": [],
   "source": [
    "# build and train the logistic regression model using features_vec as the input column and Label as the output column.\n",
    "log_reg = LogisticRegression(featuresCol='tf_idf_features_vec',labelCol='Label').fit(training_df)"
   ]
  },
  {
   "cell_type": "code",
   "execution_count": 138,
   "metadata": {},
   "outputs": [
    {
     "name": "stdout",
     "output_type": "stream",
     "text": [
      "Area Under ROC:0.9999799951348168\n",
      "Weighted Accuracy:1.0\n",
      "Weighted Recall:1.0\n",
      "Weighted Precision:1.0\n",
      "Weighted F1 Measure:1.0\n"
     ]
    }
   ],
   "source": [
    "training_summary = log_reg.summary\n",
    "print(\"Area Under ROC:\" + str(training_summary.areaUnderROC))\n",
    "print(\"Weighted Accuracy:\" + str(training_summary.accuracy))\n",
    "print(\"Weighted Recall:\" + str(training_summary.weightedRecall))\n",
    "print(\"Weighted Precision:\" + str(training_summary.weightedPrecision))\n",
    "print(\"Weighted F1 Measure:\" + str(training_summary.weightedFMeasure()))"
   ]
  },
  {
   "cell_type": "markdown",
   "metadata": {},
   "source": [
    "AUC should ideally be near to 1. Here it is almost 1 which is good.\n",
    "All others being 1 indicates we have balanced data\n",
    "\n",
    "*Talk about other metrics*"
   ]
  },
  {
   "cell_type": "code",
   "execution_count": 139,
   "metadata": {},
   "outputs": [],
   "source": [
    "training_results = log_reg.evaluate(training_df).predictions"
   ]
  },
  {
   "cell_type": "code",
   "execution_count": 140,
   "metadata": {},
   "outputs": [
    {
     "name": "stdout",
     "output_type": "stream",
     "text": [
      "+--------------------+-----------+-----+--------------------+--------------------+--------------------+----------+\n",
      "|     tf_idf_features|token_count|Label| tf_idf_features_vec|       rawPrediction|         probability|prediction|\n",
      "+--------------------+-----------+-----+--------------------+--------------------+--------------------+----------+\n",
      "|(262144,[14,571,1...|         39|  0.0|(262144,[14,571,1...|[51.9015445526534...|[1.0,2.8803522226...|       0.0|\n",
      "|(262144,[14,571,5...|         25|  1.0|(262144,[14,571,5...|[-21.684342961767...|[3.82480684433688...|       1.0|\n",
      "|(262144,[14,571,6...|         50|  1.0|(262144,[14,571,6...|[-24.665158997547...|[1.94114309808708...|       1.0|\n",
      "|(262144,[14,1322,...|         33|  1.0|(262144,[14,1322,...|[-19.851282255683...|[2.39165017831841...|       1.0|\n",
      "|(262144,[14,5460,...|         26|  1.0|(262144,[14,5460,...|[-22.259552681921...|[2.15178611367380...|       1.0|\n",
      "|(262144,[14,6053,...|         29|  0.0|(262144,[14,6053,...|[26.7935903911899...|[0.99999999999768...|       0.0|\n",
      "|(262144,[14,14219...|         37|  1.0|(262144,[14,14219...|[-22.124923758677...|[2.46188464139409...|       1.0|\n",
      "|(262144,[14,14894...|         32|  0.0|(262144,[14,14894...|[19.8606083557179...|[0.99999999763055...|       0.0|\n",
      "|(262144,[14,21336...|         19|  1.0|(262144,[14,21336...|[-21.940124766569...|[2.96158963512210...|       1.0|\n",
      "|(262144,[20,571,5...|         28|  1.0|(262144,[20,571,5...|[-29.119061465739...|[2.25814740130610...|       1.0|\n",
      "|(262144,[20,25092...|         19|  1.0|(262144,[20,25092...|[-18.889838504306...|[6.25528887799648...|       1.0|\n",
      "|(262144,[20,28530...|         18|  1.0|(262144,[20,28530...|[-30.029619840416...|[9.08451632431669...|       1.0|\n",
      "|(262144,[45,12531...|         28|  0.0|(262144,[45,12531...|[27.2978968932666...|[0.99999999999860...|       0.0|\n",
      "|(262144,[47,12531...|         26|  1.0|(262144,[47,12531...|[-20.217998207249...|[1.65742903559277...|       1.0|\n",
      "|(262144,[84,4864,...|         25|  1.0|(262144,[84,4864,...|[-38.723404693710...|[1.52278651058342...|       1.0|\n",
      "|(262144,[86,5232,...|         30|  0.0|(262144,[86,5232,...|[24.7791045897820...|[0.99999999998267...|       0.0|\n",
      "|(262144,[86,12710...|         32|  0.0|(262144,[86,12710...|[43.2943686992493...|[1.0,1.5757763439...|       0.0|\n",
      "|(262144,[211,614,...|         35|  0.0|(262144,[211,614,...|[21.1096753898819...|[0.99999999932050...|       0.0|\n",
      "|(262144,[211,1133...|         42|  1.0|(262144,[211,1133...|[-21.808481118284...|[3.37829049661455...|       1.0|\n",
      "|(262144,[211,4200...|         35|  0.0|(262144,[211,4200...|[20.9902525809272...|[0.99999999923431...|       0.0|\n",
      "+--------------------+-----------+-----+--------------------+--------------------+--------------------+----------+\n",
      "only showing top 20 rows\n",
      "\n"
     ]
    }
   ],
   "source": [
    "training_results.show()"
   ]
  },
  {
   "cell_type": "markdown",
   "metadata": {},
   "source": [
    "Label and Prediction are haveing the same values.. they're predicting same things"
   ]
  },
  {
   "cell_type": "markdown",
   "metadata": {},
   "source": []
  },
  {
   "cell_type": "markdown",
   "metadata": {},
   "source": [
    "## Test/Evaluate your trained model with test dataset. "
   ]
  },
  {
   "cell_type": "code",
   "execution_count": 141,
   "metadata": {},
   "outputs": [],
   "source": [
    "results = log_reg.evaluate(test_df).predictions"
   ]
  },
  {
   "cell_type": "code",
   "execution_count": 142,
   "metadata": {},
   "outputs": [
    {
     "name": "stdout",
     "output_type": "stream",
     "text": [
      "+-----+----------+--------------------+\n",
      "|Label|prediction|         probability|\n",
      "+-----+----------+--------------------+\n",
      "|  0.0|       0.0|[0.99999926990056...|\n",
      "|  0.0|       0.0|[0.99982194774050...|\n",
      "|  0.0|       0.0|[0.99977667235556...|\n",
      "|  0.0|       0.0|[0.99999999848050...|\n",
      "|  1.0|       1.0|[1.34690587129721...|\n",
      "|  0.0|       0.0|[0.99999999999997...|\n",
      "|  1.0|       1.0|[1.76636788061176...|\n",
      "|  0.0|       0.0|[0.99999994150066...|\n",
      "|  0.0|       0.0|[0.71312859829675...|\n",
      "|  1.0|       1.0|[1.01037913321151...|\n",
      "+-----+----------+--------------------+\n",
      "only showing top 10 rows\n",
      "\n"
     ]
    }
   ],
   "source": [
    "results.select('Label','prediction','probability').show(10)"
   ]
  },
  {
   "cell_type": "markdown",
   "metadata": {},
   "source": [
    "label and prediction being same implies they are predicting almost the same kind of things\n",
    "\n",
    "True measure is evaluation matrix"
   ]
  },
  {
   "cell_type": "code",
   "execution_count": 143,
   "metadata": {},
   "outputs": [],
   "source": [
    "from pyspark.ml.evaluation import BinaryClassificationEvaluator"
   ]
  },
  {
   "cell_type": "code",
   "execution_count": 144,
   "metadata": {},
   "outputs": [],
   "source": [
    "#confusion matrix\n",
    "true_postives = results[(results.Label == 1) & (results.prediction == 1)].count()\n",
    "true_negatives = results[(results.Label == 0) & (results.prediction == 0)].count()\n",
    "false_positives = results[(results.Label == 0) & (results.prediction == 1)].count()\n",
    "false_negatives = results[(results.Label == 1) & (results.prediction == 0)].count()"
   ]
  },
  {
   "cell_type": "code",
   "execution_count": 145,
   "metadata": {},
   "outputs": [
    {
     "name": "stdout",
     "output_type": "stream",
     "text": [
      "391 360\n",
      "46 41\n"
     ]
    }
   ],
   "source": [
    "print(true_postives, true_negatives)\n",
    "print(false_positives, false_negatives)"
   ]
  },
  {
   "cell_type": "markdown",
   "metadata": {},
   "source": [
    "The performance of the model seems reasonably good, and it is able to\n",
    "differentiate between positive and negative reviews easily.\n",
    "\n",
    "Majority of them are tp and tn\n",
    "remainig are fp and fn\n",
    "\n",
    "Which implies reviews are being well differentiated\n"
   ]
  },
  {
   "cell_type": "code",
   "execution_count": 146,
   "metadata": {},
   "outputs": [
    {
     "name": "stdout",
     "output_type": "stream",
     "text": [
      "0.9050925925925926\n"
     ]
    }
   ],
   "source": [
    "recall = float(true_postives)/(true_postives + false_negatives)\n",
    "print(recall)"
   ]
  },
  {
   "cell_type": "code",
   "execution_count": 147,
   "metadata": {},
   "outputs": [
    {
     "name": "stdout",
     "output_type": "stream",
     "text": [
      "0.8947368421052632\n"
     ]
    }
   ],
   "source": [
    "precision = float(true_postives) / (true_postives + false_positives)\n",
    "print(precision)"
   ]
  },
  {
   "cell_type": "code",
   "execution_count": 148,
   "metadata": {},
   "outputs": [
    {
     "name": "stdout",
     "output_type": "stream",
     "text": [
      "0.89618138424821\n"
     ]
    }
   ],
   "source": [
    "accuracy = float((true_postives+true_negatives) /(results.count()))\n",
    "print(accuracy)"
   ]
  },
  {
   "cell_type": "code",
   "execution_count": 149,
   "metadata": {},
   "outputs": [
    {
     "data": {
      "text/plain": [
       "0.8998849252013807"
      ]
     },
     "execution_count": 149,
     "metadata": {},
     "output_type": "execute_result"
    }
   ],
   "source": [
    "F1_score = 2*((precision*recall)/(precision+recall))\n",
    "F1_score"
   ]
  },
  {
   "cell_type": "markdown",
   "metadata": {},
   "source": [
    "In a classification task, a precision score of 1.0 means that every item labeled as belonging to a particular label does indeed belong to it whereas a recall of 1.0 means that every item labeled as belonging to a particular label does indeed belong to it.\n",
    "\n",
    "Here we got very good precision and recall values which indicates it is predicting well. Precision is 90 % which means 90 % of the time, it is able to predict the wine's country of origin. Recall rate of 90 % says that 90% of the time model is predicting the wine's country of origin. Hencce we can saythe model is true to predict wine's origin through its review descritions."
   ]
  }
 ],
 "metadata": {
  "kernelspec": {
   "display_name": "Python 3",
   "language": "python",
   "name": "python3"
  },
  "language_info": {
   "codemirror_mode": {
    "name": "ipython",
    "version": 3
   },
   "file_extension": ".py",
   "mimetype": "text/x-python",
   "name": "python",
   "nbconvert_exporter": "python",
   "pygments_lexer": "ipython3",
   "version": "3.7.6"
  }
 },
 "nbformat": 4,
 "nbformat_minor": 2
}
